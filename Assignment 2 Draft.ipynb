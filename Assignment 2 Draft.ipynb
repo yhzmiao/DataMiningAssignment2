{
 "cells": [
  {
   "cell_type": "code",
   "execution_count": 1,
   "metadata": {
    "_cell_guid": "b1076dfc-b9ad-4769-8c92-a6c4dae69d19",
    "_uuid": "8f2839f25d086af736a60e9eeb907d3b93b6e0e5"
   },
   "outputs": [],
   "source": [
    "import numpy as np # linear algebra\n",
    "import pandas as pd # data processing, CSV file I/O (e.g. pd.read_csv)\n",
    "import matplotlib.pyplot as plt\n",
    "import seaborn as sns\n",
    "import numpy as np\n",
    "%matplotlib inline"
   ]
  },
  {
   "cell_type": "markdown",
   "metadata": {},
   "source": [
    "### Load training and testing data"
   ]
  },
  {
   "cell_type": "code",
   "execution_count": 2,
   "metadata": {
    "_cell_guid": "79c7e3d0-c299-4dcb-8224-4455121ee9b0",
    "_uuid": "d629ff2d2480ee46fbb7e2d37f6b5fab8052498a",
    "scrolled": true
   },
   "outputs": [
    {
     "data": {
      "text/html": [
       "<div>\n",
       "<style scoped>\n",
       "    .dataframe tbody tr th:only-of-type {\n",
       "        vertical-align: middle;\n",
       "    }\n",
       "\n",
       "    .dataframe tbody tr th {\n",
       "        vertical-align: top;\n",
       "    }\n",
       "\n",
       "    .dataframe thead th {\n",
       "        text-align: right;\n",
       "    }\n",
       "</style>\n",
       "<table border=\"1\" class=\"dataframe\">\n",
       "  <thead>\n",
       "    <tr style=\"text-align: right;\">\n",
       "      <th></th>\n",
       "      <th>srch_id</th>\n",
       "      <th>date_time</th>\n",
       "      <th>site_id</th>\n",
       "      <th>visitor_location_country_id</th>\n",
       "      <th>visitor_hist_starrating</th>\n",
       "      <th>visitor_hist_adr_usd</th>\n",
       "      <th>prop_country_id</th>\n",
       "      <th>prop_id</th>\n",
       "      <th>prop_starrating</th>\n",
       "      <th>prop_review_score</th>\n",
       "      <th>...</th>\n",
       "      <th>comp5_rate_percent_diff</th>\n",
       "      <th>comp6_rate</th>\n",
       "      <th>comp6_inv</th>\n",
       "      <th>comp6_rate_percent_diff</th>\n",
       "      <th>comp7_rate</th>\n",
       "      <th>comp7_inv</th>\n",
       "      <th>comp7_rate_percent_diff</th>\n",
       "      <th>comp8_rate</th>\n",
       "      <th>comp8_inv</th>\n",
       "      <th>comp8_rate_percent_diff</th>\n",
       "    </tr>\n",
       "  </thead>\n",
       "  <tbody>\n",
       "    <tr>\n",
       "      <th>0</th>\n",
       "      <td>1</td>\n",
       "      <td>2013-02-02 15:27:40</td>\n",
       "      <td>24</td>\n",
       "      <td>216</td>\n",
       "      <td>NaN</td>\n",
       "      <td>NaN</td>\n",
       "      <td>219</td>\n",
       "      <td>3180</td>\n",
       "      <td>3</td>\n",
       "      <td>4.5</td>\n",
       "      <td>...</td>\n",
       "      <td>NaN</td>\n",
       "      <td>NaN</td>\n",
       "      <td>NaN</td>\n",
       "      <td>NaN</td>\n",
       "      <td>NaN</td>\n",
       "      <td>NaN</td>\n",
       "      <td>NaN</td>\n",
       "      <td>NaN</td>\n",
       "      <td>NaN</td>\n",
       "      <td>NaN</td>\n",
       "    </tr>\n",
       "    <tr>\n",
       "      <th>1</th>\n",
       "      <td>1</td>\n",
       "      <td>2013-02-02 15:27:40</td>\n",
       "      <td>24</td>\n",
       "      <td>216</td>\n",
       "      <td>NaN</td>\n",
       "      <td>NaN</td>\n",
       "      <td>219</td>\n",
       "      <td>5543</td>\n",
       "      <td>3</td>\n",
       "      <td>4.5</td>\n",
       "      <td>...</td>\n",
       "      <td>NaN</td>\n",
       "      <td>NaN</td>\n",
       "      <td>NaN</td>\n",
       "      <td>NaN</td>\n",
       "      <td>NaN</td>\n",
       "      <td>NaN</td>\n",
       "      <td>NaN</td>\n",
       "      <td>NaN</td>\n",
       "      <td>NaN</td>\n",
       "      <td>NaN</td>\n",
       "    </tr>\n",
       "    <tr>\n",
       "      <th>2</th>\n",
       "      <td>1</td>\n",
       "      <td>2013-02-02 15:27:40</td>\n",
       "      <td>24</td>\n",
       "      <td>216</td>\n",
       "      <td>NaN</td>\n",
       "      <td>NaN</td>\n",
       "      <td>219</td>\n",
       "      <td>14142</td>\n",
       "      <td>2</td>\n",
       "      <td>3.5</td>\n",
       "      <td>...</td>\n",
       "      <td>10.0</td>\n",
       "      <td>NaN</td>\n",
       "      <td>NaN</td>\n",
       "      <td>NaN</td>\n",
       "      <td>NaN</td>\n",
       "      <td>NaN</td>\n",
       "      <td>NaN</td>\n",
       "      <td>NaN</td>\n",
       "      <td>NaN</td>\n",
       "      <td>NaN</td>\n",
       "    </tr>\n",
       "    <tr>\n",
       "      <th>3</th>\n",
       "      <td>1</td>\n",
       "      <td>2013-02-02 15:27:40</td>\n",
       "      <td>24</td>\n",
       "      <td>216</td>\n",
       "      <td>NaN</td>\n",
       "      <td>NaN</td>\n",
       "      <td>219</td>\n",
       "      <td>22393</td>\n",
       "      <td>3</td>\n",
       "      <td>4.5</td>\n",
       "      <td>...</td>\n",
       "      <td>NaN</td>\n",
       "      <td>NaN</td>\n",
       "      <td>NaN</td>\n",
       "      <td>NaN</td>\n",
       "      <td>NaN</td>\n",
       "      <td>NaN</td>\n",
       "      <td>NaN</td>\n",
       "      <td>NaN</td>\n",
       "      <td>NaN</td>\n",
       "      <td>NaN</td>\n",
       "    </tr>\n",
       "    <tr>\n",
       "      <th>4</th>\n",
       "      <td>1</td>\n",
       "      <td>2013-02-02 15:27:40</td>\n",
       "      <td>24</td>\n",
       "      <td>216</td>\n",
       "      <td>NaN</td>\n",
       "      <td>NaN</td>\n",
       "      <td>219</td>\n",
       "      <td>24194</td>\n",
       "      <td>3</td>\n",
       "      <td>4.5</td>\n",
       "      <td>...</td>\n",
       "      <td>NaN</td>\n",
       "      <td>NaN</td>\n",
       "      <td>NaN</td>\n",
       "      <td>NaN</td>\n",
       "      <td>NaN</td>\n",
       "      <td>NaN</td>\n",
       "      <td>NaN</td>\n",
       "      <td>NaN</td>\n",
       "      <td>NaN</td>\n",
       "      <td>NaN</td>\n",
       "    </tr>\n",
       "  </tbody>\n",
       "</table>\n",
       "<p>5 rows × 50 columns</p>\n",
       "</div>"
      ],
      "text/plain": [
       "   srch_id            date_time  site_id  visitor_location_country_id  \\\n",
       "0        1  2013-02-02 15:27:40       24                          216   \n",
       "1        1  2013-02-02 15:27:40       24                          216   \n",
       "2        1  2013-02-02 15:27:40       24                          216   \n",
       "3        1  2013-02-02 15:27:40       24                          216   \n",
       "4        1  2013-02-02 15:27:40       24                          216   \n",
       "\n",
       "   visitor_hist_starrating  visitor_hist_adr_usd  prop_country_id  prop_id  \\\n",
       "0                      NaN                   NaN              219     3180   \n",
       "1                      NaN                   NaN              219     5543   \n",
       "2                      NaN                   NaN              219    14142   \n",
       "3                      NaN                   NaN              219    22393   \n",
       "4                      NaN                   NaN              219    24194   \n",
       "\n",
       "   prop_starrating  prop_review_score  ...  comp5_rate_percent_diff  \\\n",
       "0                3                4.5  ...                      NaN   \n",
       "1                3                4.5  ...                      NaN   \n",
       "2                2                3.5  ...                     10.0   \n",
       "3                3                4.5  ...                      NaN   \n",
       "4                3                4.5  ...                      NaN   \n",
       "\n",
       "   comp6_rate  comp6_inv  comp6_rate_percent_diff  comp7_rate  comp7_inv  \\\n",
       "0         NaN        NaN                      NaN         NaN        NaN   \n",
       "1         NaN        NaN                      NaN         NaN        NaN   \n",
       "2         NaN        NaN                      NaN         NaN        NaN   \n",
       "3         NaN        NaN                      NaN         NaN        NaN   \n",
       "4         NaN        NaN                      NaN         NaN        NaN   \n",
       "\n",
       "   comp7_rate_percent_diff  comp8_rate  comp8_inv  comp8_rate_percent_diff  \n",
       "0                      NaN         NaN        NaN                      NaN  \n",
       "1                      NaN         NaN        NaN                      NaN  \n",
       "2                      NaN         NaN        NaN                      NaN  \n",
       "3                      NaN         NaN        NaN                      NaN  \n",
       "4                      NaN         NaN        NaN                      NaN  \n",
       "\n",
       "[5 rows x 50 columns]"
      ]
     },
     "execution_count": 2,
     "metadata": {},
     "output_type": "execute_result"
    }
   ],
   "source": [
    "# Load Training Data\n",
    "train_data = pd.read_csv(\"input/training_set_VU_DM.csv\")\n",
    "train_data.head()\n",
    "\n",
    "# Load Test Data\n",
    "test_data = pd.read_csv(\"input/test_set_VU_DM.csv\")\n",
    "test_data.head()"
   ]
  },
  {
   "cell_type": "markdown",
   "metadata": {},
   "source": [
    "### directly use the result"
   ]
  },
  {
   "cell_type": "code",
   "execution_count": 9,
   "metadata": {},
   "outputs": [
    {
     "name": "stdout",
     "output_type": "stream",
     "text": [
      "         srch_id  prop_id\n",
      "23             1    99484\n",
      "9              1    54937\n",
      "12             1    61934\n",
      "8              1    50162\n",
      "5              1    28181\n",
      "...          ...      ...\n",
      "4959179   332787    33959\n",
      "4959178   332787    32019\n",
      "4959182   332787    99509\n",
      "4959181   332787    94437\n",
      "4959180   332787    35240\n",
      "\n",
      "[4959183 rows x 2 columns]\n",
      "Your submission was successfully saved!\n"
     ]
    }
   ],
   "source": [
    "output = pd.read_csv('result.csv')\n",
    "# print(output)\n",
    "\n",
    "result = pd.DataFrame({'srch_id': test_data.srch_id, 'prop_id': test_data.prop_id, 'value': output.value})\n",
    "output = result.sort_values(by=['srch_id', 'value'], ascending = (True, False))[['srch_id', 'prop_id']]\n",
    "print(output)\n",
    "\n",
    "output.to_csv('output/my_submission.csv', index=False)\n",
    "print('Your submission was successfully saved!')"
   ]
  },
  {
   "cell_type": "markdown",
   "metadata": {},
   "source": [
    "### Display attributes"
   ]
  },
  {
   "cell_type": "code",
   "execution_count": 12,
   "metadata": {},
   "outputs": [
    {
     "name": "stdout",
     "output_type": "stream",
     "text": [
      "<class 'pandas.core.frame.DataFrame'>\n",
      "RangeIndex: 4958347 entries, 0 to 4958346\n",
      "Data columns (total 54 columns):\n",
      " #   Column                       Non-Null Count    Dtype  \n",
      "---  ------                       --------------    -----  \n",
      " 0   srch_id                      4958347 non-null  int64  \n",
      " 1   date_time                    4958347 non-null  object \n",
      " 2   site_id                      4958347 non-null  int64  \n",
      " 3   visitor_location_country_id  4958347 non-null  int64  \n",
      " 4   visitor_hist_starrating      251866 non-null   float64\n",
      " 5   visitor_hist_adr_usd         252988 non-null   float64\n",
      " 6   prop_country_id              4958347 non-null  int64  \n",
      " 7   prop_id                      4958347 non-null  int64  \n",
      " 8   prop_starrating              4958347 non-null  int64  \n",
      " 9   prop_review_score            4950983 non-null  float64\n",
      " 10  prop_brand_bool              4958347 non-null  int64  \n",
      " 11  prop_location_score1         4958347 non-null  float64\n",
      " 12  prop_location_score2         3867999 non-null  float64\n",
      " 13  prop_log_historical_price    4958347 non-null  float64\n",
      " 14  position                     4958347 non-null  int64  \n",
      " 15  price_usd                    4958347 non-null  float64\n",
      " 16  promotion_flag               4958347 non-null  int64  \n",
      " 17  srch_destination_id          4958347 non-null  int64  \n",
      " 18  srch_length_of_stay          4958347 non-null  int64  \n",
      " 19  srch_booking_window          4958347 non-null  int64  \n",
      " 20  srch_adults_count            4958347 non-null  int64  \n",
      " 21  srch_children_count          4958347 non-null  int64  \n",
      " 22  srch_room_count              4958347 non-null  int64  \n",
      " 23  srch_saturday_night_bool     4958347 non-null  int64  \n",
      " 24  srch_query_affinity_score    317406 non-null   float64\n",
      " 25  orig_destination_distance    3350565 non-null  float64\n",
      " 26  random_bool                  4958347 non-null  int64  \n",
      " 27  comp1_rate                   119930 non-null   float64\n",
      " 28  comp1_inv                    129559 non-null   float64\n",
      " 29  comp1_rate_percent_diff      94439 non-null    float64\n",
      " 30  comp2_rate                   2024672 non-null  float64\n",
      " 31  comp2_inv                    2130269 non-null  float64\n",
      " 32  comp2_rate_percent_diff      556238 non-null   float64\n",
      " 33  comp3_rate                   1534288 non-null  float64\n",
      " 34  comp3_inv                    1650990 non-null  float64\n",
      " 35  comp3_rate_percent_diff      472797 non-null   float64\n",
      " 36  comp4_rate                   307378 non-null   float64\n",
      " 37  comp4_inv                    343663 non-null   float64\n",
      " 38  comp4_rate_percent_diff      131086 non-null   float64\n",
      " 39  comp5_rate                   2222373 non-null  float64\n",
      " 40  comp5_inv                    2360020 non-null  float64\n",
      " 41  comp5_rate_percent_diff      841099 non-null   float64\n",
      " 42  comp6_rate                   240157 non-null   float64\n",
      " 43  comp6_inv                    260976 non-null   float64\n",
      " 44  comp6_rate_percent_diff      96174 non-null    float64\n",
      " 45  comp7_rate                   315348 non-null   float64\n",
      " 46  comp7_inv                    356422 non-null   float64\n",
      " 47  comp7_rate_percent_diff      138515 non-null   float64\n",
      " 48  comp8_rate                   1916654 non-null  float64\n",
      " 49  comp8_inv                    1987503 non-null  float64\n",
      " 50  comp8_rate_percent_diff      614730 non-null   float64\n",
      " 51  click_bool                   4958347 non-null  int64  \n",
      " 52  gross_bookings_usd           138390 non-null   float64\n",
      " 53  booking_bool                 4958347 non-null  int64  \n",
      "dtypes: float64(34), int64(19), object(1)\n",
      "memory usage: 2.0+ GB\n",
      "<class 'pandas.core.frame.DataFrame'>\n",
      "RangeIndex: 4959183 entries, 0 to 4959182\n",
      "Data columns (total 50 columns):\n",
      " #   Column                       Non-Null Count    Dtype  \n",
      "---  ------                       --------------    -----  \n",
      " 0   srch_id                      4959183 non-null  int64  \n",
      " 1   date_time                    4959183 non-null  object \n",
      " 2   site_id                      4959183 non-null  int64  \n",
      " 3   visitor_location_country_id  4959183 non-null  int64  \n",
      " 4   visitor_hist_starrating      253431 non-null   float64\n",
      " 5   visitor_hist_adr_usd         254624 non-null   float64\n",
      " 6   prop_country_id              4959183 non-null  int64  \n",
      " 7   prop_id                      4959183 non-null  int64  \n",
      " 8   prop_starrating              4959183 non-null  int64  \n",
      " 9   prop_review_score            4951917 non-null  float64\n",
      " 10  prop_brand_bool              4959183 non-null  int64  \n",
      " 11  prop_location_score1         4959183 non-null  float64\n",
      " 12  prop_location_score2         3871151 non-null  float64\n",
      " 13  prop_log_historical_price    4959183 non-null  float64\n",
      " 14  price_usd                    4959183 non-null  float64\n",
      " 15  promotion_flag               4959183 non-null  int64  \n",
      " 16  srch_destination_id          4959183 non-null  int64  \n",
      " 17  srch_length_of_stay          4959183 non-null  int64  \n",
      " 18  srch_booking_window          4959183 non-null  int64  \n",
      " 19  srch_adults_count            4959183 non-null  int64  \n",
      " 20  srch_children_count          4959183 non-null  int64  \n",
      " 21  srch_room_count              4959183 non-null  int64  \n",
      " 22  srch_saturday_night_bool     4959183 non-null  int64  \n",
      " 23  srch_query_affinity_score    318158 non-null   float64\n",
      " 24  orig_destination_distance    3350504 non-null  float64\n",
      " 25  random_bool                  4959183 non-null  int64  \n",
      " 26  comp1_rate                   115876 non-null   float64\n",
      " 27  comp1_inv                    124874 non-null   float64\n",
      " 28  comp1_rate_percent_diff      90468 non-null    float64\n",
      " 29  comp2_rate                   2015961 non-null  float64\n",
      " 30  comp2_inv                    2121269 non-null  float64\n",
      " 31  comp2_rate_percent_diff      553609 non-null   float64\n",
      " 32  comp3_rate                   1524985 non-null  float64\n",
      " 33  comp3_inv                    1641231 non-null  float64\n",
      " 34  comp3_rate_percent_diff      471210 non-null   float64\n",
      " 35  comp4_rate                   312721 non-null   float64\n",
      " 36  comp4_inv                    348808 non-null   float64\n",
      " 37  comp4_rate_percent_diff      133127 non-null   float64\n",
      " 38  comp5_rate                   2221921 non-null  float64\n",
      " 39  comp5_inv                    2360813 non-null  float64\n",
      " 40  comp5_rate_percent_diff      839907 non-null   float64\n",
      " 41  comp6_rate                   242330 non-null   float64\n",
      " 42  comp6_inv                    263169 non-null   float64\n",
      " 43  comp6_rate_percent_diff      97138 non-null    float64\n",
      " 44  comp7_rate                   315729 non-null   float64\n",
      " 45  comp7_inv                    356753 non-null   float64\n",
      " 46  comp7_rate_percent_diff      139323 non-null   float64\n",
      " 47  comp8_rate                   1902389 non-null  float64\n",
      " 48  comp8_inv                    1972885 non-null  float64\n",
      " 49  comp8_rate_percent_diff      610977 non-null   float64\n",
      "dtypes: float64(33), int64(16), object(1)\n",
      "memory usage: 1.8+ GB\n"
     ]
    }
   ],
   "source": [
    "train_data.info(null_counts=True)\n",
    "test_data.info(null_counts=True)"
   ]
  },
  {
   "cell_type": "markdown",
   "metadata": {},
   "source": [
    "### Get overview of missing data per feature"
   ]
  },
  {
   "cell_type": "code",
   "execution_count": 14,
   "metadata": {},
   "outputs": [],
   "source": [
    "table = []\n",
    "for i in train_data.columns:\n",
    "    total_null = train_data[i].isnull().sum()\n",
    "    table.append([i, total_null, 100*total_null/len(train_data[i])])"
   ]
  },
  {
   "cell_type": "code",
   "execution_count": 15,
   "metadata": {},
   "outputs": [
    {
     "data": {
      "text/html": [
       "<div>\n",
       "<style scoped>\n",
       "    .dataframe tbody tr th:only-of-type {\n",
       "        vertical-align: middle;\n",
       "    }\n",
       "\n",
       "    .dataframe tbody tr th {\n",
       "        vertical-align: top;\n",
       "    }\n",
       "\n",
       "    .dataframe thead th {\n",
       "        text-align: right;\n",
       "    }\n",
       "</style>\n",
       "<table border=\"1\" class=\"dataframe\">\n",
       "  <thead>\n",
       "    <tr style=\"text-align: right;\">\n",
       "      <th></th>\n",
       "      <th>Feature Name</th>\n",
       "      <th>Total Null</th>\n",
       "      <th>% Null</th>\n",
       "    </tr>\n",
       "  </thead>\n",
       "  <tbody>\n",
       "    <tr>\n",
       "      <th>29</th>\n",
       "      <td>comp1_rate_percent_diff</td>\n",
       "      <td>4863908</td>\n",
       "      <td>98.095353</td>\n",
       "    </tr>\n",
       "    <tr>\n",
       "      <th>44</th>\n",
       "      <td>comp6_rate_percent_diff</td>\n",
       "      <td>4862173</td>\n",
       "      <td>98.060362</td>\n",
       "    </tr>\n",
       "    <tr>\n",
       "      <th>27</th>\n",
       "      <td>comp1_rate</td>\n",
       "      <td>4838417</td>\n",
       "      <td>97.581250</td>\n",
       "    </tr>\n",
       "    <tr>\n",
       "      <th>28</th>\n",
       "      <td>comp1_inv</td>\n",
       "      <td>4828788</td>\n",
       "      <td>97.387053</td>\n",
       "    </tr>\n",
       "    <tr>\n",
       "      <th>38</th>\n",
       "      <td>comp4_rate_percent_diff</td>\n",
       "      <td>4827261</td>\n",
       "      <td>97.356256</td>\n",
       "    </tr>\n",
       "    <tr>\n",
       "      <th>52</th>\n",
       "      <td>gross_bookings_usd</td>\n",
       "      <td>4819957</td>\n",
       "      <td>97.208949</td>\n",
       "    </tr>\n",
       "    <tr>\n",
       "      <th>47</th>\n",
       "      <td>comp7_rate_percent_diff</td>\n",
       "      <td>4819832</td>\n",
       "      <td>97.206428</td>\n",
       "    </tr>\n",
       "    <tr>\n",
       "      <th>42</th>\n",
       "      <td>comp6_rate</td>\n",
       "      <td>4718190</td>\n",
       "      <td>95.156511</td>\n",
       "    </tr>\n",
       "    <tr>\n",
       "      <th>4</th>\n",
       "      <td>visitor_hist_starrating</td>\n",
       "      <td>4706481</td>\n",
       "      <td>94.920364</td>\n",
       "    </tr>\n",
       "    <tr>\n",
       "      <th>5</th>\n",
       "      <td>visitor_hist_adr_usd</td>\n",
       "      <td>4705359</td>\n",
       "      <td>94.897735</td>\n",
       "    </tr>\n",
       "    <tr>\n",
       "      <th>43</th>\n",
       "      <td>comp6_inv</td>\n",
       "      <td>4697371</td>\n",
       "      <td>94.736633</td>\n",
       "    </tr>\n",
       "    <tr>\n",
       "      <th>36</th>\n",
       "      <td>comp4_rate</td>\n",
       "      <td>4650969</td>\n",
       "      <td>93.800797</td>\n",
       "    </tr>\n",
       "    <tr>\n",
       "      <th>45</th>\n",
       "      <td>comp7_rate</td>\n",
       "      <td>4642999</td>\n",
       "      <td>93.640058</td>\n",
       "    </tr>\n",
       "    <tr>\n",
       "      <th>24</th>\n",
       "      <td>srch_query_affinity_score</td>\n",
       "      <td>4640941</td>\n",
       "      <td>93.598552</td>\n",
       "    </tr>\n",
       "    <tr>\n",
       "      <th>37</th>\n",
       "      <td>comp4_inv</td>\n",
       "      <td>4614684</td>\n",
       "      <td>93.069001</td>\n",
       "    </tr>\n",
       "    <tr>\n",
       "      <th>46</th>\n",
       "      <td>comp7_inv</td>\n",
       "      <td>4601925</td>\n",
       "      <td>92.811677</td>\n",
       "    </tr>\n",
       "    <tr>\n",
       "      <th>35</th>\n",
       "      <td>comp3_rate_percent_diff</td>\n",
       "      <td>4485550</td>\n",
       "      <td>90.464625</td>\n",
       "    </tr>\n",
       "    <tr>\n",
       "      <th>32</th>\n",
       "      <td>comp2_rate_percent_diff</td>\n",
       "      <td>4402109</td>\n",
       "      <td>88.781786</td>\n",
       "    </tr>\n",
       "    <tr>\n",
       "      <th>50</th>\n",
       "      <td>comp8_rate_percent_diff</td>\n",
       "      <td>4343617</td>\n",
       "      <td>87.602118</td>\n",
       "    </tr>\n",
       "    <tr>\n",
       "      <th>41</th>\n",
       "      <td>comp5_rate_percent_diff</td>\n",
       "      <td>4117248</td>\n",
       "      <td>83.036706</td>\n",
       "    </tr>\n",
       "    <tr>\n",
       "      <th>33</th>\n",
       "      <td>comp3_rate</td>\n",
       "      <td>3424059</td>\n",
       "      <td>69.056462</td>\n",
       "    </tr>\n",
       "    <tr>\n",
       "      <th>34</th>\n",
       "      <td>comp3_inv</td>\n",
       "      <td>3307357</td>\n",
       "      <td>66.702814</td>\n",
       "    </tr>\n",
       "    <tr>\n",
       "      <th>48</th>\n",
       "      <td>comp8_rate</td>\n",
       "      <td>3041693</td>\n",
       "      <td>61.344900</td>\n",
       "    </tr>\n",
       "    <tr>\n",
       "      <th>49</th>\n",
       "      <td>comp8_inv</td>\n",
       "      <td>2970844</td>\n",
       "      <td>59.916016</td>\n",
       "    </tr>\n",
       "    <tr>\n",
       "      <th>30</th>\n",
       "      <td>comp2_rate</td>\n",
       "      <td>2933675</td>\n",
       "      <td>59.166392</td>\n",
       "    </tr>\n",
       "    <tr>\n",
       "      <th>31</th>\n",
       "      <td>comp2_inv</td>\n",
       "      <td>2828078</td>\n",
       "      <td>57.036710</td>\n",
       "    </tr>\n",
       "    <tr>\n",
       "      <th>39</th>\n",
       "      <td>comp5_rate</td>\n",
       "      <td>2735974</td>\n",
       "      <td>55.179155</td>\n",
       "    </tr>\n",
       "    <tr>\n",
       "      <th>40</th>\n",
       "      <td>comp5_inv</td>\n",
       "      <td>2598327</td>\n",
       "      <td>52.403089</td>\n",
       "    </tr>\n",
       "    <tr>\n",
       "      <th>25</th>\n",
       "      <td>orig_destination_distance</td>\n",
       "      <td>1607782</td>\n",
       "      <td>32.425766</td>\n",
       "    </tr>\n",
       "    <tr>\n",
       "      <th>12</th>\n",
       "      <td>prop_location_score2</td>\n",
       "      <td>1090348</td>\n",
       "      <td>21.990151</td>\n",
       "    </tr>\n",
       "    <tr>\n",
       "      <th>9</th>\n",
       "      <td>prop_review_score</td>\n",
       "      <td>7364</td>\n",
       "      <td>0.148517</td>\n",
       "    </tr>\n",
       "    <tr>\n",
       "      <th>51</th>\n",
       "      <td>click_bool</td>\n",
       "      <td>0</td>\n",
       "      <td>0.000000</td>\n",
       "    </tr>\n",
       "    <tr>\n",
       "      <th>0</th>\n",
       "      <td>srch_id</td>\n",
       "      <td>0</td>\n",
       "      <td>0.000000</td>\n",
       "    </tr>\n",
       "    <tr>\n",
       "      <th>1</th>\n",
       "      <td>date_time</td>\n",
       "      <td>0</td>\n",
       "      <td>0.000000</td>\n",
       "    </tr>\n",
       "    <tr>\n",
       "      <th>14</th>\n",
       "      <td>position</td>\n",
       "      <td>0</td>\n",
       "      <td>0.000000</td>\n",
       "    </tr>\n",
       "    <tr>\n",
       "      <th>2</th>\n",
       "      <td>site_id</td>\n",
       "      <td>0</td>\n",
       "      <td>0.000000</td>\n",
       "    </tr>\n",
       "    <tr>\n",
       "      <th>3</th>\n",
       "      <td>visitor_location_country_id</td>\n",
       "      <td>0</td>\n",
       "      <td>0.000000</td>\n",
       "    </tr>\n",
       "    <tr>\n",
       "      <th>6</th>\n",
       "      <td>prop_country_id</td>\n",
       "      <td>0</td>\n",
       "      <td>0.000000</td>\n",
       "    </tr>\n",
       "    <tr>\n",
       "      <th>7</th>\n",
       "      <td>prop_id</td>\n",
       "      <td>0</td>\n",
       "      <td>0.000000</td>\n",
       "    </tr>\n",
       "    <tr>\n",
       "      <th>8</th>\n",
       "      <td>prop_starrating</td>\n",
       "      <td>0</td>\n",
       "      <td>0.000000</td>\n",
       "    </tr>\n",
       "    <tr>\n",
       "      <th>10</th>\n",
       "      <td>prop_brand_bool</td>\n",
       "      <td>0</td>\n",
       "      <td>0.000000</td>\n",
       "    </tr>\n",
       "    <tr>\n",
       "      <th>11</th>\n",
       "      <td>prop_location_score1</td>\n",
       "      <td>0</td>\n",
       "      <td>0.000000</td>\n",
       "    </tr>\n",
       "    <tr>\n",
       "      <th>13</th>\n",
       "      <td>prop_log_historical_price</td>\n",
       "      <td>0</td>\n",
       "      <td>0.000000</td>\n",
       "    </tr>\n",
       "    <tr>\n",
       "      <th>15</th>\n",
       "      <td>price_usd</td>\n",
       "      <td>0</td>\n",
       "      <td>0.000000</td>\n",
       "    </tr>\n",
       "    <tr>\n",
       "      <th>26</th>\n",
       "      <td>random_bool</td>\n",
       "      <td>0</td>\n",
       "      <td>0.000000</td>\n",
       "    </tr>\n",
       "    <tr>\n",
       "      <th>16</th>\n",
       "      <td>promotion_flag</td>\n",
       "      <td>0</td>\n",
       "      <td>0.000000</td>\n",
       "    </tr>\n",
       "    <tr>\n",
       "      <th>17</th>\n",
       "      <td>srch_destination_id</td>\n",
       "      <td>0</td>\n",
       "      <td>0.000000</td>\n",
       "    </tr>\n",
       "    <tr>\n",
       "      <th>18</th>\n",
       "      <td>srch_length_of_stay</td>\n",
       "      <td>0</td>\n",
       "      <td>0.000000</td>\n",
       "    </tr>\n",
       "    <tr>\n",
       "      <th>19</th>\n",
       "      <td>srch_booking_window</td>\n",
       "      <td>0</td>\n",
       "      <td>0.000000</td>\n",
       "    </tr>\n",
       "    <tr>\n",
       "      <th>20</th>\n",
       "      <td>srch_adults_count</td>\n",
       "      <td>0</td>\n",
       "      <td>0.000000</td>\n",
       "    </tr>\n",
       "    <tr>\n",
       "      <th>21</th>\n",
       "      <td>srch_children_count</td>\n",
       "      <td>0</td>\n",
       "      <td>0.000000</td>\n",
       "    </tr>\n",
       "    <tr>\n",
       "      <th>22</th>\n",
       "      <td>srch_room_count</td>\n",
       "      <td>0</td>\n",
       "      <td>0.000000</td>\n",
       "    </tr>\n",
       "    <tr>\n",
       "      <th>23</th>\n",
       "      <td>srch_saturday_night_bool</td>\n",
       "      <td>0</td>\n",
       "      <td>0.000000</td>\n",
       "    </tr>\n",
       "    <tr>\n",
       "      <th>53</th>\n",
       "      <td>booking_bool</td>\n",
       "      <td>0</td>\n",
       "      <td>0.000000</td>\n",
       "    </tr>\n",
       "  </tbody>\n",
       "</table>\n",
       "</div>"
      ],
      "text/plain": [
       "                   Feature Name  Total Null     % Null\n",
       "29      comp1_rate_percent_diff     4863908  98.095353\n",
       "44      comp6_rate_percent_diff     4862173  98.060362\n",
       "27                   comp1_rate     4838417  97.581250\n",
       "28                    comp1_inv     4828788  97.387053\n",
       "38      comp4_rate_percent_diff     4827261  97.356256\n",
       "52           gross_bookings_usd     4819957  97.208949\n",
       "47      comp7_rate_percent_diff     4819832  97.206428\n",
       "42                   comp6_rate     4718190  95.156511\n",
       "4       visitor_hist_starrating     4706481  94.920364\n",
       "5          visitor_hist_adr_usd     4705359  94.897735\n",
       "43                    comp6_inv     4697371  94.736633\n",
       "36                   comp4_rate     4650969  93.800797\n",
       "45                   comp7_rate     4642999  93.640058\n",
       "24    srch_query_affinity_score     4640941  93.598552\n",
       "37                    comp4_inv     4614684  93.069001\n",
       "46                    comp7_inv     4601925  92.811677\n",
       "35      comp3_rate_percent_diff     4485550  90.464625\n",
       "32      comp2_rate_percent_diff     4402109  88.781786\n",
       "50      comp8_rate_percent_diff     4343617  87.602118\n",
       "41      comp5_rate_percent_diff     4117248  83.036706\n",
       "33                   comp3_rate     3424059  69.056462\n",
       "34                    comp3_inv     3307357  66.702814\n",
       "48                   comp8_rate     3041693  61.344900\n",
       "49                    comp8_inv     2970844  59.916016\n",
       "30                   comp2_rate     2933675  59.166392\n",
       "31                    comp2_inv     2828078  57.036710\n",
       "39                   comp5_rate     2735974  55.179155\n",
       "40                    comp5_inv     2598327  52.403089\n",
       "25    orig_destination_distance     1607782  32.425766\n",
       "12         prop_location_score2     1090348  21.990151\n",
       "9             prop_review_score        7364   0.148517\n",
       "51                   click_bool           0   0.000000\n",
       "0                       srch_id           0   0.000000\n",
       "1                     date_time           0   0.000000\n",
       "14                     position           0   0.000000\n",
       "2                       site_id           0   0.000000\n",
       "3   visitor_location_country_id           0   0.000000\n",
       "6               prop_country_id           0   0.000000\n",
       "7                       prop_id           0   0.000000\n",
       "8               prop_starrating           0   0.000000\n",
       "10              prop_brand_bool           0   0.000000\n",
       "11         prop_location_score1           0   0.000000\n",
       "13    prop_log_historical_price           0   0.000000\n",
       "15                    price_usd           0   0.000000\n",
       "26                  random_bool           0   0.000000\n",
       "16               promotion_flag           0   0.000000\n",
       "17          srch_destination_id           0   0.000000\n",
       "18          srch_length_of_stay           0   0.000000\n",
       "19          srch_booking_window           0   0.000000\n",
       "20            srch_adults_count           0   0.000000\n",
       "21          srch_children_count           0   0.000000\n",
       "22              srch_room_count           0   0.000000\n",
       "23     srch_saturday_night_bool           0   0.000000\n",
       "53                 booking_bool           0   0.000000"
      ]
     },
     "execution_count": 15,
     "metadata": {},
     "output_type": "execute_result"
    }
   ],
   "source": [
    "missing_values_overview = pd.DataFrame(table, columns = [\"Feature Name\", \"Total Null\", \"% Null\"])\n",
    "missing_values_overview.sort_values(\"% Null\",ascending = False) # arrange features based on % Null "
   ]
  },
  {
   "cell_type": "markdown",
   "metadata": {},
   "source": [
    "### Filling in the missing values for \"prop_review_score\""
   ]
  },
  {
   "cell_type": "code",
   "execution_count": 16,
   "metadata": {},
   "outputs": [
    {
     "name": "stderr",
     "output_type": "stream",
     "text": [
      "<ipython-input-16-b35225f27fac>:1: SettingWithCopyWarning: \n",
      "A value is trying to be set on a copy of a slice from a DataFrame\n",
      "\n",
      "See the caveats in the documentation: https://pandas.pydata.org/pandas-docs/stable/user_guide/indexing.html#returning-a-view-versus-a-copy\n",
      "  train_data.loc[:,\"prop_review_score\"][train_data.loc[:,\"prop_review_score\"].isnull()] = train_data.loc[:,\"prop_review_score\"].median()\n",
      "<ipython-input-16-b35225f27fac>:3: SettingWithCopyWarning: \n",
      "A value is trying to be set on a copy of a slice from a DataFrame\n",
      "\n",
      "See the caveats in the documentation: https://pandas.pydata.org/pandas-docs/stable/user_guide/indexing.html#returning-a-view-versus-a-copy\n",
      "  test_data.loc[:,\"prop_review_score\"][test_data.loc[:,\"prop_review_score\"].isnull()] = test_data.loc[:,\"prop_review_score\"].median()\n"
     ]
    }
   ],
   "source": [
    "train_data.loc[:,\"prop_review_score\"][train_data.loc[:,\"prop_review_score\"].isnull()] = train_data.loc[:,\"prop_review_score\"].median()\n",
    "\n",
    "test_data.loc[:,\"prop_review_score\"][test_data.loc[:,\"prop_review_score\"].isnull()] = test_data.loc[:,\"prop_review_score\"].median()"
   ]
  },
  {
   "cell_type": "markdown",
   "metadata": {},
   "source": [
    "### Filling in the missing values for \"prop_location_score2\""
   ]
  },
  {
   "cell_type": "code",
   "execution_count": 17,
   "metadata": {},
   "outputs": [
    {
     "name": "stderr",
     "output_type": "stream",
     "text": [
      "<ipython-input-17-c4a9444f7ab9>:3: SettingWithCopyWarning: \n",
      "A value is trying to be set on a copy of a slice from a DataFrame\n",
      "\n",
      "See the caveats in the documentation: https://pandas.pydata.org/pandas-docs/stable/user_guide/indexing.html#returning-a-view-versus-a-copy\n",
      "  train_data[\"prop_location_score2\"][train_data[\"prop_location_score2\"].isnull()] = train_data[\"prop_id\"].map(dict_ids)\n",
      "<ipython-input-17-c4a9444f7ab9>:4: SettingWithCopyWarning: \n",
      "A value is trying to be set on a copy of a slice from a DataFrame\n",
      "\n",
      "See the caveats in the documentation: https://pandas.pydata.org/pandas-docs/stable/user_guide/indexing.html#returning-a-view-versus-a-copy\n",
      "  train_data[\"prop_location_score2\"][train_data[\"prop_location_score2\"].isnull()] = train_data[\"prop_location_score2\"].median()\n",
      "<ipython-input-17-c4a9444f7ab9>:8: SettingWithCopyWarning: \n",
      "A value is trying to be set on a copy of a slice from a DataFrame\n",
      "\n",
      "See the caveats in the documentation: https://pandas.pydata.org/pandas-docs/stable/user_guide/indexing.html#returning-a-view-versus-a-copy\n",
      "  test_data[\"prop_location_score2\"][test_data[\"prop_location_score2\"].isnull()] = test_data[\"prop_id\"].map(dict_ids)\n",
      "<ipython-input-17-c4a9444f7ab9>:9: SettingWithCopyWarning: \n",
      "A value is trying to be set on a copy of a slice from a DataFrame\n",
      "\n",
      "See the caveats in the documentation: https://pandas.pydata.org/pandas-docs/stable/user_guide/indexing.html#returning-a-view-versus-a-copy\n",
      "  test_data[\"prop_location_score2\"][test_data[\"prop_location_score2\"].isnull()] = test_data[\"prop_location_score2\"].median()\n"
     ]
    }
   ],
   "source": [
    "temp_df = train_data.loc[:,[\"prop_id\",\"prop_location_score2\"]][train_data.loc[:,\"prop_location_score2\"].notnull()].groupby([\"prop_id\"]).max()\n",
    "dict_ids = temp_df.to_dict()['prop_location_score2'] # this is a list of property id's and the mode prop_location_score2\n",
    "train_data[\"prop_location_score2\"][train_data[\"prop_location_score2\"].isnull()] = train_data[\"prop_id\"].map(dict_ids)\n",
    "train_data[\"prop_location_score2\"][train_data[\"prop_location_score2\"].isnull()] = train_data[\"prop_location_score2\"].median()\n",
    "\n",
    "temp_df = test_data.loc[:,[\"prop_id\",\"prop_location_score2\"]][test_data.loc[:,\"prop_location_score2\"].notnull()].groupby([\"prop_id\"]).max()\n",
    "dict_ids = temp_df.to_dict()['prop_location_score2'] # this is a list of property id's and the mode prop_location_score2\n",
    "test_data[\"prop_location_score2\"][test_data[\"prop_location_score2\"].isnull()] = test_data[\"prop_id\"].map(dict_ids)\n",
    "test_data[\"prop_location_score2\"][test_data[\"prop_location_score2\"].isnull()] = test_data[\"prop_location_score2\"].median()"
   ]
  },
  {
   "cell_type": "markdown",
   "metadata": {},
   "source": [
    "### Filling in the missing values for \"orig_destination_distance\""
   ]
  },
  {
   "cell_type": "code",
   "execution_count": 18,
   "metadata": {},
   "outputs": [
    {
     "name": "stderr",
     "output_type": "stream",
     "text": [
      "<ipython-input-18-c130cc7e6145>:9: SettingWithCopyWarning: \n",
      "A value is trying to be set on a copy of a slice from a DataFrame\n",
      "\n",
      "See the caveats in the documentation: https://pandas.pydata.org/pandas-docs/stable/user_guide/indexing.html#returning-a-view-versus-a-copy\n",
      "  train_data[\"orig_destination_distance\"][train_data[\"orig_destination_distance\"].isnull()] = train_data[\"orig_destination_distance\"].median()\n",
      "<ipython-input-18-c130cc7e6145>:21: SettingWithCopyWarning: \n",
      "A value is trying to be set on a copy of a slice from a DataFrame\n",
      "\n",
      "See the caveats in the documentation: https://pandas.pydata.org/pandas-docs/stable/user_guide/indexing.html#returning-a-view-versus-a-copy\n",
      "  test_data[\"orig_destination_distance\"][test_data[\"orig_destination_distance\"].isnull()] = test_data[\"orig_destination_distance\"].median()\n"
     ]
    }
   ],
   "source": [
    "temp_df = train_data[[\"visitor_location_country_id\",\"prop_country_id\",\"orig_destination_distance\"]][train_data[\"orig_destination_distance\"].notnull()]\n",
    "temp_df['new_col'] = list(zip(temp_df[\"visitor_location_country_id\"], temp_df[\"prop_country_id\"]))\n",
    "org_dest_dict = temp_df.groupby([\"new_col\"]).median()[\"orig_destination_distance\"].to_dict()\n",
    "\n",
    "temp_nan = train_data[[\"visitor_location_country_id\",\"prop_country_id\",\"orig_destination_distance\"]][train_data[\"orig_destination_distance\"].isnull()]\n",
    "temp_nan['new_col'] = list(zip(temp_nan[\"visitor_location_country_id\"], temp_nan[\"prop_country_id\"]))\n",
    "if not temp_nan[\"new_col\"].map(org_dest_dict).empty:\n",
    "    train_data[\"orig_destination_distance\"] = temp_nan[\"new_col\"].map(org_dest_dict)\n",
    "    train_data[\"orig_destination_distance\"][train_data[\"orig_destination_distance\"].isnull()] = train_data[\"orig_destination_distance\"].median()\n",
    "\n",
    "    \n",
    "\n",
    "temp_df = test_data[[\"visitor_location_country_id\",\"prop_country_id\",\"orig_destination_distance\"]][test_data[\"orig_destination_distance\"].notnull()]\n",
    "temp_df['new_col'] = list(zip(temp_df[\"visitor_location_country_id\"], temp_df[\"prop_country_id\"]))\n",
    "org_dest_dict = temp_df.groupby([\"new_col\"]).median()[\"orig_destination_distance\"].to_dict()\n",
    "\n",
    "temp_nan = test_data[[\"visitor_location_country_id\",\"prop_country_id\",\"orig_destination_distance\"]][test_data[\"orig_destination_distance\"].isnull()]\n",
    "temp_nan['new_col'] = list(zip(temp_nan[\"visitor_location_country_id\"], temp_nan[\"prop_country_id\"]))\n",
    "if not temp_nan[\"new_col\"].map(org_dest_dict).empty:\n",
    "    test_data[\"orig_destination_distance\"] = temp_nan[\"new_col\"].map(org_dest_dict)\n",
    "    test_data[\"orig_destination_distance\"][test_data[\"orig_destination_distance\"].isnull()] = test_data[\"orig_destination_distance\"].median()    "
   ]
  },
  {
   "cell_type": "markdown",
   "metadata": {},
   "source": [
    "### Filling in the missing values for \"srch_query_affinity_score\""
   ]
  },
  {
   "cell_type": "code",
   "execution_count": 19,
   "metadata": {},
   "outputs": [
    {
     "name": "stderr",
     "output_type": "stream",
     "text": [
      "<ipython-input-19-f33630af3840>:4: SettingWithCopyWarning: \n",
      "A value is trying to be set on a copy of a slice from a DataFrame\n",
      "\n",
      "See the caveats in the documentation: https://pandas.pydata.org/pandas-docs/stable/user_guide/indexing.html#returning-a-view-versus-a-copy\n",
      "  train_data[\"srch_query_affinity_score\"][train_data[\"srch_query_affinity_score\"].isnull()] = train_data[\"prop_id\"].map(dict_scores)\n",
      "<ipython-input-19-f33630af3840>:7: SettingWithCopyWarning: \n",
      "A value is trying to be set on a copy of a slice from a DataFrame\n",
      "\n",
      "See the caveats in the documentation: https://pandas.pydata.org/pandas-docs/stable/user_guide/indexing.html#returning-a-view-versus-a-copy\n",
      "  train_data[\"srch_query_affinity_score\"][train_data[\"srch_query_affinity_score\"].isnull()] = train_data[\"srch_query_affinity_score\"][train_data[\"srch_query_affinity_score\"].notnull()].min()\n",
      "<ipython-input-19-f33630af3840>:13: SettingWithCopyWarning: \n",
      "A value is trying to be set on a copy of a slice from a DataFrame\n",
      "\n",
      "See the caveats in the documentation: https://pandas.pydata.org/pandas-docs/stable/user_guide/indexing.html#returning-a-view-versus-a-copy\n",
      "  test_data[\"srch_query_affinity_score\"][test_data[\"srch_query_affinity_score\"].isnull()] = test_data[\"prop_id\"].map(dict_scores)\n",
      "<ipython-input-19-f33630af3840>:16: SettingWithCopyWarning: \n",
      "A value is trying to be set on a copy of a slice from a DataFrame\n",
      "\n",
      "See the caveats in the documentation: https://pandas.pydata.org/pandas-docs/stable/user_guide/indexing.html#returning-a-view-versus-a-copy\n",
      "  test_data[\"srch_query_affinity_score\"][test_data[\"srch_query_affinity_score\"].isnull()] = test_data[\"srch_query_affinity_score\"][test_data[\"srch_query_affinity_score\"].notnull()].min()\n"
     ]
    }
   ],
   "source": [
    "dict_scores = train_data[[\"prop_id\",\"srch_query_affinity_score\"]][train_data[\"srch_query_affinity_score\"].notnull()].groupby([\"prop_id\"]).median().to_dict()[\"srch_query_affinity_score\"]\n",
    "\n",
    "# search for past scores based on prop_id\n",
    "train_data[\"srch_query_affinity_score\"][train_data[\"srch_query_affinity_score\"].isnull()] = train_data[\"prop_id\"].map(dict_scores)\n",
    "\n",
    "# for all remaining values, use the minimum affinity score\n",
    "train_data[\"srch_query_affinity_score\"][train_data[\"srch_query_affinity_score\"].isnull()] = train_data[\"srch_query_affinity_score\"][train_data[\"srch_query_affinity_score\"].notnull()].min()\n",
    "\n",
    "\n",
    "dict_scores = test_data[[\"prop_id\",\"srch_query_affinity_score\"]][test_data[\"srch_query_affinity_score\"].notnull()].groupby([\"prop_id\"]).median().to_dict()[\"srch_query_affinity_score\"]\n",
    "\n",
    "# search for past scores based on prop_id\n",
    "test_data[\"srch_query_affinity_score\"][test_data[\"srch_query_affinity_score\"].isnull()] = test_data[\"prop_id\"].map(dict_scores)\n",
    "\n",
    "# for all remaining values, use the minimum affinity score\n",
    "test_data[\"srch_query_affinity_score\"][test_data[\"srch_query_affinity_score\"].isnull()] = test_data[\"srch_query_affinity_score\"][test_data[\"srch_query_affinity_score\"].notnull()].min()"
   ]
  },
  {
   "cell_type": "markdown",
   "metadata": {},
   "source": [
    "## New Attributes"
   ]
  },
  {
   "cell_type": "markdown",
   "metadata": {},
   "source": [
    "### Strong Competitor"
   ]
  },
  {
   "cell_type": "code",
   "execution_count": 20,
   "metadata": {},
   "outputs": [
    {
     "name": "stdout",
     "output_type": "stream",
     "text": [
      "['comp1_inv', 'comp1_rate', 'comp1_rate_percent_diff', 'comp2_inv', 'comp2_rate', 'comp2_rate_percent_diff', 'comp3_inv', 'comp3_rate', 'comp3_rate_percent_diff', 'comp4_inv', 'comp4_rate', 'comp4_rate_percent_diff', 'comp5_inv', 'comp5_rate', 'comp5_rate_percent_diff', 'comp6_inv', 'comp6_rate', 'comp6_rate_percent_diff', 'comp7_inv', 'comp7_rate', 'comp7_rate_percent_diff', 'comp8_inv', 'comp8_rate', 'comp8_rate_percent_diff']\n"
     ]
    }
   ],
   "source": [
    "def competitor(vec):\n",
    "    ret = 0\n",
    "    for i in range(0, 8):\n",
    "        inv = vec[i * 3]\n",
    "        rate = vec[i * 3 + 1]\n",
    "        rpd = vec[i * 3 + 2]\n",
    "        if np.isnan(inv) or np.isnan(rate) or np.isnan(rpd):\n",
    "            continue\n",
    "        elif inv < 0.5 and rate < 0 and rpd > 10:\n",
    "            return 1\n",
    "        else:\n",
    "            ret = -1\n",
    "    return ret        \n",
    "\n",
    "feature = []\n",
    "for i in range(1, 9):\n",
    "    inv = f\"comp{i}_inv\"\n",
    "    rate = f\"comp{i}_rate\"\n",
    "    rpd = f\"comp{i}_rate_percent_diff\"\n",
    "    feature.extend([inv, rate, rpd])\n",
    "print(feature)\n",
    "train_data[\"strong_competitor\"] = train_data[feature].apply(competitor, axis=1)\n",
    "test_data[\"strong_competitor\"] = test_data[feature].apply(competitor, axis=1)\n"
   ]
  },
  {
   "cell_type": "code",
   "execution_count": 21,
   "metadata": {},
   "outputs": [
    {
     "data": {
      "text/plain": [
       "<matplotlib.axes._subplots.AxesSubplot at 0x26e798e23d0>"
      ]
     },
     "execution_count": 21,
     "metadata": {},
     "output_type": "execute_result"
    },
    {
     "data": {
      "image/png": "[encoded data removed]",
      "text/plain": [
       "<Figure size 432x288 with 1 Axes>"
      ]
     },
     "metadata": {
      "needs_background": "light"
     },
     "output_type": "display_data"
    },
    {
     "data": {
      "image/png": "[encoded data removed]",
      "text/plain": [
       "<Figure size 432x288 with 1 Axes>"
      ]
     },
     "metadata": {
      "needs_background": "light"
     },
     "output_type": "display_data"
    }
   ],
   "source": [
    "plt.figure()\n",
    "sns.distplot(train_data['strong_competitor'])\n",
    "\n",
    "plt.figure()\n",
    "sns.barplot(x = 'strong_competitor', y = 'booking_bool', data=train_data)"
   ]
  },
  {
   "cell_type": "markdown",
   "metadata": {},
   "source": [
    "### preferred"
   ]
  },
  {
   "cell_type": "code",
   "execution_count": 22,
   "metadata": {},
   "outputs": [],
   "source": [
    "# 50% difference in price and +- 1.5 in rating\n",
    "def preferred(vec):\n",
    "    vh_star = vec[0]\n",
    "    vh_used = vec[1]\n",
    "    star = vec[2]\n",
    "    price = vec[3]\n",
    "    if np.isnan(vh_star) and np.isnan(vh_used):\n",
    "        return 0\n",
    "    if vh_star + 1.5 > star and vh_star - 1.5 < star:\n",
    "        return 1\n",
    "    if vh_used * 1.5 > price and vh_used / 1.5 < price:\n",
    "        return 1\n",
    "    return 0\n",
    "\n",
    "train_data[\"preferred\"] = train_data[[\"visitor_hist_starrating\", \"visitor_hist_adr_usd\", \"prop_starrating\", \"price_usd\"]].apply(preferred, axis=1)\n",
    "test_data[\"preferred\"] = test_data[[\"visitor_hist_starrating\", \"visitor_hist_adr_usd\", \"prop_starrating\", \"price_usd\"]].apply(preferred, axis=1) "
   ]
  },
  {
   "cell_type": "code",
   "execution_count": 23,
   "metadata": {},
   "outputs": [
    {
     "data": {
      "text/plain": [
       "<matplotlib.axes._subplots.AxesSubplot at 0x26e798dae50>"
      ]
     },
     "execution_count": 23,
     "metadata": {},
     "output_type": "execute_result"
    },
    {
     "data": {
      "image/png": "[encoded data removed]",
      "text/plain": [
       "<Figure size 432x288 with 1 Axes>"
      ]
     },
     "metadata": {
      "needs_background": "light"
     },
     "output_type": "display_data"
    }
   ],
   "source": [
    "train_data[\"preferred\"].value_counts()\n",
    "\n",
    "plt.figure()\n",
    "sns.barplot(x = 'preferred', y = 'booking_bool', data=train_data)"
   ]
  },
  {
   "cell_type": "markdown",
   "metadata": {},
   "source": [
    "### foreigner"
   ]
  },
  {
   "cell_type": "code",
   "execution_count": 24,
   "metadata": {},
   "outputs": [],
   "source": [
    "def foreigner(vec):\n",
    "    v_cid = vec[0]\n",
    "    cid = vec[1]\n",
    "    if v_cid == cid:\n",
    "        return 1\n",
    "    return 0\n",
    "\n",
    "train_data[\"foreigner\"] = train_data[[\"visitor_location_country_id\", \"prop_country_id\"]].apply(foreigner, axis=1)\n",
    "test_data[\"foreigner\"] = test_data[[\"visitor_location_country_id\", \"prop_country_id\"]].apply(foreigner, axis=1) "
   ]
  },
  {
   "cell_type": "code",
   "execution_count": 25,
   "metadata": {},
   "outputs": [
    {
     "data": {
      "text/plain": [
       "1    3164018\n",
       "0    1794329\n",
       "Name: foreigner, dtype: int64"
      ]
     },
     "execution_count": 25,
     "metadata": {},
     "output_type": "execute_result"
    }
   ],
   "source": [
    "train_data[\"foreigner\"].value_counts()"
   ]
  },
  {
   "cell_type": "markdown",
   "metadata": {},
   "source": [
    "### price group"
   ]
  },
  {
   "cell_type": "code",
   "execution_count": 26,
   "metadata": {},
   "outputs": [],
   "source": [
    "def price_group(price):\n",
    "    if price < 125:\n",
    "        return 1\n",
    "    elif price < 200:\n",
    "        return 2\n",
    "    elif price < 400:\n",
    "        return 3\n",
    "    else:\n",
    "        return 4\n",
    "    \n",
    "train_data[\"price_group\"] = train_data[\"price_usd\"].apply(price_group)\n",
    "test_data[\"price_group\"] = test_data[\"price_usd\"].apply(price_group)"
   ]
  },
  {
   "cell_type": "code",
   "execution_count": 27,
   "metadata": {},
   "outputs": [
    {
     "data": {
      "text/plain": [
       "<matplotlib.axes._subplots.AxesSubplot at 0x26e7992eb80>"
      ]
     },
     "execution_count": 27,
     "metadata": {},
     "output_type": "execute_result"
    },
    {
     "data": {
      "image/png": "[encoded data removed]",
      "text/plain": [
       "<Figure size 432x288 with 1 Axes>"
      ]
     },
     "metadata": {
      "needs_background": "light"
     },
     "output_type": "display_data"
    }
   ],
   "source": [
    "train_data['price_group'].value_counts()\n",
    "\n",
    "plt.figure()\n",
    "sns.barplot(x = 'price_group', y = 'booking_bool', data=train_data)"
   ]
  },
  {
   "cell_type": "markdown",
   "metadata": {},
   "source": [
    "### distance group and country id(maybe later)"
   ]
  },
  {
   "cell_type": "code",
   "execution_count": 37,
   "metadata": {},
   "outputs": [
    {
     "data": {
      "text/plain": [
       "<matplotlib.axes._subplots.AxesSubplot at 0x1d53552cf70>"
      ]
     },
     "execution_count": 37,
     "metadata": {},
     "output_type": "execute_result"
    },
    {
     "data": {
      "image/png": "[encoded data removed]",
      "text/plain": [
       "<Figure size 432x288 with 1 Axes>"
      ]
     },
     "metadata": {
      "needs_background": "light"
     },
     "output_type": "display_data"
    }
   ],
   "source": [
    "#plt.figure()\n",
    "#sns.distplot(train_data['orig_destination_distance'])"
   ]
  },
  {
   "cell_type": "code",
   "execution_count": 38,
   "metadata": {},
   "outputs": [
    {
     "data": {
      "text/plain": [
       "219    3030125\n",
       "100     311283\n",
       "55      186465\n",
       "31      154287\n",
       "99      135388\n",
       "        ...   \n",
       "180         12\n",
       "7           10\n",
       "126          7\n",
       "204          5\n",
       "165          2\n",
       "Name: prop_country_id, Length: 172, dtype: int64"
      ]
     },
     "execution_count": 38,
     "metadata": {},
     "output_type": "execute_result"
    }
   ],
   "source": [
    "train_data[\"prop_country_id\"].value_counts()"
   ]
  },
  {
   "cell_type": "markdown",
   "metadata": {},
   "source": [
    "### prop_location_score"
   ]
  },
  {
   "cell_type": "code",
   "execution_count": 42,
   "metadata": {},
   "outputs": [
    {
     "data": {
      "text/plain": [
       "<matplotlib.axes._subplots.AxesSubplot at 0x1d4df9783a0>"
      ]
     },
     "execution_count": 42,
     "metadata": {},
     "output_type": "execute_result"
    },
    {
     "data": {
      "image/png": "[encoded data removed]",
      "text/plain": [
       "<Figure size 432x288 with 1 Axes>"
      ]
     },
     "metadata": {
      "needs_background": "light"
     },
     "output_type": "display_data"
    }
   ],
   "source": [
    "plt.figure()\n",
    "sns.distplot(train_data['prop_location_score1'])"
   ]
  },
  {
   "cell_type": "code",
   "execution_count": 28,
   "metadata": {},
   "outputs": [],
   "source": [
    "def location_score1(location1):\n",
    "    return round(location1 * 2) / 2\n",
    "\n",
    "train_data[\"location_score1\"] = train_data[\"prop_location_score1\"].apply(location_score1)\n",
    "test_data[\"location_score1\"] = test_data[\"prop_location_score1\"].apply(location_score1)"
   ]
  },
  {
   "cell_type": "code",
   "execution_count": 45,
   "metadata": {},
   "outputs": [
    {
     "data": {
      "text/plain": [
       "2.5    638336\n",
       "2.0    610548\n",
       "3.0    565160\n",
       "4.0    476921\n",
       "3.5    474827\n",
       "1.5    424301\n",
       "4.5    412301\n",
       "5.0    291893\n",
       "0.0    273229\n",
       "0.5    251968\n",
       "1.0    227912\n",
       "5.5    134118\n",
       "6.0    123928\n",
       "6.5     37631\n",
       "7.0     15274\n",
       "Name: location_score1, dtype: int64"
      ]
     },
     "execution_count": 45,
     "metadata": {},
     "output_type": "execute_result"
    }
   ],
   "source": [
    "train_data[\"location_score1\"].value_counts()"
   ]
  },
  {
   "cell_type": "code",
   "execution_count": 29,
   "metadata": {},
   "outputs": [],
   "source": [
    "def location_score2(location2):\n",
    "    return round(location2, 1)\n",
    "\n",
    "train_data[\"location_score2\"] = train_data[\"prop_location_score2\"].apply(location_score2)\n",
    "test_data[\"location_score2\"] = test_data[\"prop_location_score2\"].apply(location_score2)"
   ]
  },
  {
   "cell_type": "code",
   "execution_count": 49,
   "metadata": {},
   "outputs": [
    {
     "data": {
      "text/plain": [
       "0.0    1845219\n",
       "0.1    1441825\n",
       "0.2     640809\n",
       "0.3     376332\n",
       "0.4     243400\n",
       "0.5     162755\n",
       "0.6     105264\n",
       "0.7      69703\n",
       "0.8      42018\n",
       "0.9      21597\n",
       "1.0       9425\n",
       "Name: location_score2, dtype: int64"
      ]
     },
     "execution_count": 49,
     "metadata": {},
     "output_type": "execute_result"
    }
   ],
   "source": [
    "train_data[\"location_score2\"].value_counts()"
   ]
  },
  {
   "cell_type": "code",
   "execution_count": 30,
   "metadata": {},
   "outputs": [
    {
     "data": {
      "text/plain": [
       "5.0    1620849\n",
       "4.5     979875\n",
       "5.5     955346\n",
       "0.0     713899\n",
       "6.0     440132\n",
       "4.0     231042\n",
       "3.5      14472\n",
       "3.0       2391\n",
       "2.5        197\n",
       "1.5        132\n",
       "2.0         12\n",
       "Name: log_historical_price, dtype: int64"
      ]
     },
     "execution_count": 30,
     "metadata": {},
     "output_type": "execute_result"
    }
   ],
   "source": [
    "def log_historical_price(hist):\n",
    "    return round(hist * 2) / 2\n",
    "\n",
    "train_data[\"log_historical_price\"] = train_data[\"prop_log_historical_price\"].apply(log_historical_price)\n",
    "test_data[\"log_historical_price\"] = test_data[\"prop_log_historical_price\"].apply(log_historical_price)\n",
    "\n",
    "train_data[\"log_historical_price\"].value_counts()"
   ]
  },
  {
   "cell_type": "code",
   "execution_count": 31,
   "metadata": {},
   "outputs": [
    {
     "data": {
      "text/plain": [
       "1    2143980\n",
       "2    1203153\n",
       "3     717298\n",
       "4     373594\n",
       "7     186748\n",
       "5     185744\n",
       "6     102671\n",
       "8      45159\n",
       "Name: length_of_stay, dtype: int64"
      ]
     },
     "execution_count": 31,
     "metadata": {},
     "output_type": "execute_result"
    }
   ],
   "source": [
    "def length_of_stay(day):\n",
    "    if day > 10:\n",
    "        return 8\n",
    "    if day > 7:\n",
    "        return 7\n",
    "    return day\n",
    "\n",
    "train_data[\"length_of_stay\"] = train_data[\"srch_length_of_stay\"].apply(length_of_stay)\n",
    "test_data[\"length_of_stay\"] = test_data[\"srch_length_of_stay\"].apply(length_of_stay)\n",
    "\n",
    "train_data[\"length_of_stay\"].value_counts()"
   ]
  },
  {
   "cell_type": "code",
   "execution_count": 37,
   "metadata": {},
   "outputs": [
    {
     "data": {
      "text/plain": [
       "5    864198\n",
       "4    753816\n",
       "3    722671\n",
       "6    709261\n",
       "2    633400\n",
       "7    470386\n",
       "1    374949\n",
       "0    276815\n",
       "8    152851\n",
       "Name: booking_window, dtype: int64"
      ]
     },
     "execution_count": 37,
     "metadata": {},
     "output_type": "execute_result"
    }
   ],
   "source": [
    "import math\n",
    "\n",
    "def booking_window(day):\n",
    "    return min(round(math.log(day + 1, 2)), 8)\n",
    "\n",
    "train_data[\"booking_window\"] = train_data[\"srch_booking_window\"].apply(booking_window)\n",
    "test_data[\"booking_window\"] = test_data[\"srch_booking_window\"].apply(booking_window)\n",
    "\n",
    "train_data[\"booking_window\"].value_counts()"
   ]
  },
  {
   "cell_type": "code",
   "execution_count": 85,
   "metadata": {},
   "outputs": [
    {
     "data": {
      "text/plain": [
       "2    3246234\n",
       "1    1156861\n",
       "4     242176\n",
       "3     239029\n",
       "6      31043\n",
       "5      27056\n",
       "8      10300\n",
       "7       4435\n",
       "9       1213\n",
       "Name: srch_adults_count, dtype: int64"
      ]
     },
     "execution_count": 85,
     "metadata": {},
     "output_type": "execute_result"
    }
   ],
   "source": [
    "train_data[\"srch_adults_count\"].value_counts()"
   ]
  },
  {
   "cell_type": "code",
   "execution_count": 86,
   "metadata": {},
   "outputs": [
    {
     "data": {
      "text/plain": [
       "0    3811774\n",
       "1     675701\n",
       "2     386976\n",
       "3      58080\n",
       "4      19829\n",
       "5       2949\n",
       "6       2066\n",
       "8        574\n",
       "7        332\n",
       "9         66\n",
       "Name: srch_children_count, dtype: int64"
      ]
     },
     "execution_count": 86,
     "metadata": {},
     "output_type": "execute_result"
    }
   ],
   "source": [
    "train_data[\"srch_children_count\"].value_counts()"
   ]
  },
  {
   "cell_type": "markdown",
   "metadata": {},
   "source": [
    "### family type"
   ]
  },
  {
   "cell_type": "code",
   "execution_count": 32,
   "metadata": {},
   "outputs": [
    {
     "data": {
      "text/plain": [
       "1    3811774\n",
       "3     626768\n",
       "2     519805\n",
       "Name: family_type, dtype: int64"
      ]
     },
     "execution_count": 32,
     "metadata": {},
     "output_type": "execute_result"
    }
   ],
   "source": [
    "def family_type(vec):\n",
    "    adults = vec[0]\n",
    "    children = vec[1]\n",
    "    \n",
    "    if children == 0:\n",
    "        return 1\n",
    "    if adults > children:\n",
    "        return 2\n",
    "    return 3\n",
    "\n",
    "train_data[\"family_type\"] = train_data[[\"srch_adults_count\", \"srch_children_count\"]].apply(family_type, axis=1)\n",
    "test_data[\"family_type\"] = test_data[[\"srch_adults_count\", \"srch_children_count\"]].apply(family_type, axis=1)\n",
    "\n",
    "train_data[\"family_type\"].value_counts()"
   ]
  },
  {
   "cell_type": "code",
   "execution_count": 87,
   "metadata": {},
   "outputs": [
    {
     "data": {
      "text/plain": [
       "1    4520212\n",
       "2     369152\n",
       "3      47656\n",
       "4      12175\n",
       "5       3829\n",
       "6       2181\n",
       "8       1959\n",
       "7       1183\n",
       "Name: srch_room_count, dtype: int64"
      ]
     },
     "execution_count": 87,
     "metadata": {},
     "output_type": "execute_result"
    }
   ],
   "source": [
    "train_data[\"srch_room_count\"].value_counts()"
   ]
  },
  {
   "cell_type": "code",
   "execution_count": 88,
   "metadata": {},
   "outputs": [
    {
     "data": {
      "text/plain": [
       "1    2490145\n",
       "0    2468202\n",
       "Name: srch_saturday_night_bool, dtype: int64"
      ]
     },
     "execution_count": 88,
     "metadata": {},
     "output_type": "execute_result"
    }
   ],
   "source": [
    "train_data[\"srch_saturday_night_bool\"].value_counts()"
   ]
  },
  {
   "cell_type": "code",
   "execution_count": 89,
   "metadata": {},
   "outputs": [
    {
     "data": {
      "text/plain": [
       "0    3491170\n",
       "1    1467177\n",
       "Name: random_bool, dtype: int64"
      ]
     },
     "execution_count": 89,
     "metadata": {},
     "output_type": "execute_result"
    }
   ],
   "source": [
    "train_data[\"random_bool\"].value_counts()"
   ]
  },
  {
   "cell_type": "code",
   "execution_count": 92,
   "metadata": {},
   "outputs": [
    {
     "data": {
      "text/plain": [
       "<matplotlib.axes._subplots.AxesSubplot at 0x1d6cb67a0d0>"
      ]
     },
     "execution_count": 92,
     "metadata": {},
     "output_type": "execute_result"
    },
    {
     "data": {
      "image/png": "[encoded data removed]",
      "text/plain": [
       "<Figure size 432x288 with 1 Axes>"
      ]
     },
     "metadata": {
      "needs_background": "light"
     },
     "output_type": "display_data"
    }
   ],
   "source": [
    "plt.figure()\n",
    "sns.distplot(train_data['srch_query_affinity_score'])"
   ]
  },
  {
   "cell_type": "code",
   "execution_count": 33,
   "metadata": {},
   "outputs": [
    {
     "data": {
      "text/plain": [
       "4     1159820\n",
       "3      865325\n",
       "10     834772\n",
       "5      827570\n",
       "6      396042\n",
       "2      304220\n",
       "7      208954\n",
       "1      182239\n",
       "8      118172\n",
       "9       61233\n",
       "Name: query_aff, dtype: int64"
      ]
     },
     "execution_count": 33,
     "metadata": {},
     "output_type": "execute_result"
    }
   ],
   "source": [
    "def query_aff(score):\n",
    "    if score < -50:\n",
    "        score = -50\n",
    "    score = -score\n",
    "    return max(round(score / 5), 1)\n",
    "\n",
    "train_data[\"query_aff\"] = train_data[\"srch_query_affinity_score\"].apply(query_aff)\n",
    "test_data[\"query_aff\"] = test_data[\"srch_query_affinity_score\"].apply(query_aff)\n",
    "\n",
    "train_data[\"query_aff\"].value_counts()"
   ]
  },
  {
   "cell_type": "code",
   "execution_count": 100,
   "metadata": {},
   "outputs": [
    {
     "data": {
      "text/plain": [
       "<matplotlib.axes._subplots.AxesSubplot at 0x1d6e5fadc70>"
      ]
     },
     "execution_count": 100,
     "metadata": {},
     "output_type": "execute_result"
    },
    {
     "data": {
      "image/png": "[encoded data removed]",
      "text/plain": [
       "<Figure size 432x288 with 1 Axes>"
      ]
     },
     "metadata": {
      "needs_background": "light"
     },
     "output_type": "display_data"
    }
   ],
   "source": [
    "plt.figure()\n",
    "sns.barplot(x = 'query_aff', y = 'booking_bool', data=train_data)"
   ]
  },
  {
   "cell_type": "code",
   "execution_count": 99,
   "metadata": {},
   "outputs": [
    {
     "data": {
      "text/plain": [
       "<matplotlib.axes._subplots.AxesSubplot at 0x1d53564da90>"
      ]
     },
     "execution_count": 99,
     "metadata": {},
     "output_type": "execute_result"
    },
    {
     "data": {
      "image/png": "[encoded data removed]",
      "text/plain": [
       "<Figure size 432x288 with 1 Axes>"
      ]
     },
     "metadata": {
      "needs_background": "light"
     },
     "output_type": "display_data"
    }
   ],
   "source": [
    "plt.figure()\n",
    "tmp = train_data.loc[train_data['orig_destination_distance'] < 500]\n",
    "sns.distplot(tmp['orig_destination_distance'])"
   ]
  },
  {
   "cell_type": "code",
   "execution_count": 34,
   "metadata": {},
   "outputs": [
    {
     "data": {
      "text/plain": [
       "2    4503902\n",
       "1     167283\n",
       "4     163486\n",
       "3     123676\n",
       "Name: distance, dtype: int64"
      ]
     },
     "execution_count": 34,
     "metadata": {},
     "output_type": "execute_result"
    }
   ],
   "source": [
    "def distance(orig_dist):\n",
    "    if orig_dist < 200:\n",
    "        return 1\n",
    "    if orig_dist < 500:\n",
    "        return 2\n",
    "    if orig_dist < 2000:\n",
    "        return 3\n",
    "    return 4\n",
    "\n",
    "\n",
    "\n",
    "train_data[\"distance\"] = train_data[\"orig_destination_distance\"].apply(distance)\n",
    "test_data[\"distance\"] = test_data[\"orig_destination_distance\"].apply(distance)\n",
    "\n",
    "train_data[\"distance\"].value_counts()"
   ]
  },
  {
   "cell_type": "code",
   "execution_count": 102,
   "metadata": {},
   "outputs": [
    {
     "data": {
      "text/plain": [
       "4.0    1564312\n",
       "4.5    1546880\n",
       "3.5     768054\n",
       "3.0     375905\n",
       "5.0     235947\n",
       "0.0     233294\n",
       "2.5     143886\n",
       "2.0      62301\n",
       "1.5      14465\n",
       "1.0      13303\n",
       "Name: prop_review_score, dtype: int64"
      ]
     },
     "execution_count": 102,
     "metadata": {},
     "output_type": "execute_result"
    }
   ],
   "source": [
    "train_data[\"prop_review_score\"].value_counts()"
   ]
  },
  {
   "cell_type": "code",
   "execution_count": 35,
   "metadata": {},
   "outputs": [
    {
     "data": {
      "text/plain": [
       "6     740292\n",
       "3     699945\n",
       "5     697266\n",
       "4     648924\n",
       "1     616775\n",
       "2     583970\n",
       "11    494555\n",
       "12    477456\n",
       "Name: month, dtype: int64"
      ]
     },
     "execution_count": 35,
     "metadata": {},
     "output_type": "execute_result"
    }
   ],
   "source": [
    "def month(date):\n",
    "    return int(date[5:7])\n",
    "def year(date):\n",
    "    return int(date[0:4])\n",
    "\n",
    "train_data[\"year\"] = train_data[\"date_time\"].apply(year)\n",
    "test_data[\"year\"] = test_data[\"date_time\"].apply(year)\n",
    "\n",
    "train_data[\"month\"] = train_data[\"date_time\"].apply(month)\n",
    "test_data[\"month\"] = test_data[\"date_time\"].apply(month)\n",
    "\n",
    "test_data[\"month\"].value_counts()"
   ]
  },
  {
   "cell_type": "markdown",
   "metadata": {},
   "source": [
    "## Output dataset"
   ]
  },
  {
   "cell_type": "code",
   "execution_count": 38,
   "metadata": {},
   "outputs": [],
   "source": [
    "output_features = [\n",
    "    'booking_bool',\n",
    "    'site_id',\n",
    "    'month',\n",
    "    'year',\n",
    "    #'visitor_location_country_id'\n",
    "    'prop_starrating',\n",
    "    'prop_brand_bool',\n",
    "    'location_score1',\n",
    "    'log_historical_price',\n",
    "    'price_group',\n",
    "    'promotion_flag',\n",
    "    #'srch_destination_id',\n",
    "    'length_of_stay',\n",
    "    'booking_window',\n",
    "    'srch_adults_count',\n",
    "    'srch_children_count',\n",
    "    'srch_room_count',\n",
    "    'srch_saturday_night_bool',\n",
    "    'random_bool',\n",
    "    'foreigner',\n",
    "    'preferred',\n",
    "    'strong_competitor',\n",
    "    'query_aff',\n",
    "    'distance',\n",
    "    'location_score2',\n",
    "    'prop_review_score',\n",
    "    'family_type'\n",
    "]\n",
    "\n",
    "output_train = train_data[output_features]\n",
    "output_test = test_data[output_features[1:]]"
   ]
  },
  {
   "cell_type": "code",
   "execution_count": 39,
   "metadata": {},
   "outputs": [],
   "source": [
    "output_train.to_csv(\"output_train.csv\")\n",
    "#output_train.to_csv(\"output_train.csv\", sep = ' ', header = False, index = False)"
   ]
  },
  {
   "cell_type": "code",
   "execution_count": 40,
   "metadata": {},
   "outputs": [],
   "source": [
    "output_test.to_csv(\"output_test.csv\")\n",
    "#output_test.to_csv(\"output_test.csv\", sep = ' ', header = False, index = False)"
   ]
  },
  {
   "cell_type": "markdown",
   "metadata": {},
   "source": [
    "Use probability classifier"
   ]
  },
  {
   "cell_type": "code",
   "execution_count": 31,
   "metadata": {},
   "outputs": [
    {
     "name": "stdout",
     "output_type": "stream",
     "text": [
      "Finished\n"
     ]
    }
   ],
   "source": [
    "from sklearn.ensemble import RandomForestClassifier\n",
    "\n",
    "features = ['prop_starrating', 'prop_brand_bool', 'prop_location_score1', 'prop_log_historical_price', 'price_group', 'promotion_flag', 'srch_destination_id', 'srch_length_of_stay', 'srch_booking_window', 'srch_adults_count', 'srch_children_count', 'srch_room_count', 'srch_saturday_night_bool', 'random_bool', 'foreigner', 'preferred', 'strong_competitor', 'srch_query_affinity_score', 'orig_destination_distance', 'prop_location_score2', 'prop_review_score']\n",
    "y = train_data['booking_bool']\n",
    "\n",
    "X = train_data[features]\n",
    "X_test = test_data[features]\n",
    "\n",
    "model = RandomForestClassifier(n_estimators=30, max_depth=30)\n",
    "\n",
    "model.fit(X, y)\n",
    "predictions = model.predict_proba(X_test)\n",
    "\n",
    "print(\"Finished\")"
   ]
  },
  {
   "cell_type": "code",
   "execution_count": 32,
   "metadata": {
    "scrolled": false
   },
   "outputs": [
    {
     "name": "stdout",
     "output_type": "stream",
     "text": [
      "[[9.76231576e-01 2.37684240e-02]\n",
      " [9.07293749e-01 9.27062513e-02]\n",
      " [9.95451100e-01 4.54889983e-03]\n",
      " [9.86351044e-01 1.36489563e-02]\n",
      " [9.74742590e-01 2.52574098e-02]\n",
      " [8.30026257e-01 1.69973743e-01]\n",
      " [9.85231055e-01 1.47689449e-02]\n",
      " [9.98459886e-01 1.54011448e-03]\n",
      " [9.50485923e-01 4.95140769e-02]\n",
      " [9.00258234e-01 9.97417657e-02]\n",
      " [9.88231025e-01 1.17689751e-02]\n",
      " [9.99716312e-01 2.83687943e-04]\n",
      " [9.39174184e-01 6.08258159e-02]\n",
      " [9.48074555e-01 5.19254451e-02]\n",
      " [9.74080899e-01 2.59191013e-02]\n",
      " [9.87819955e-01 1.21800454e-02]\n",
      " [9.77314974e-01 2.26850261e-02]\n",
      " [9.28627981e-01 7.13720192e-02]\n",
      " [9.47369992e-01 5.26300076e-02]\n",
      " [9.32236951e-01 6.77630487e-02]\n",
      " [9.81543775e-01 1.84562252e-02]\n",
      " [9.89654262e-01 1.03457383e-02]\n",
      " [9.81252218e-01 1.87477824e-02]\n",
      " [8.79350400e-01 1.20649600e-01]\n",
      " [9.90245590e-01 9.75441006e-03]\n",
      " [8.92156863e-01 1.07843137e-01]\n",
      " [9.94998884e-01 5.00111576e-03]\n",
      " [9.62124377e-01 3.78756226e-02]\n",
      " [9.96213301e-01 3.78669930e-03]\n",
      " [9.27580444e-01 7.24195556e-02]\n",
      " [9.26133176e-01 7.38668240e-02]\n",
      " [9.65343334e-01 3.46566662e-02]\n",
      " [9.85910240e-01 1.40897598e-02]\n",
      " [9.75303935e-01 2.46960654e-02]\n",
      " [9.87786544e-01 1.22134562e-02]\n",
      " [9.56351661e-01 4.36483395e-02]\n",
      " [9.82835635e-01 1.71643654e-02]\n",
      " [9.89164480e-01 1.08355198e-02]\n",
      " [9.21556854e-01 7.84431464e-02]\n",
      " [9.88451030e-01 1.15489695e-02]\n",
      " [9.82619424e-01 1.73805759e-02]\n",
      " [9.45867500e-01 5.41324995e-02]\n",
      " [9.70670875e-01 2.93291254e-02]\n",
      " [9.94197903e-01 5.80209684e-03]\n",
      " [8.69781517e-01 1.30218483e-01]\n",
      " [9.90198770e-01 9.80123045e-03]\n",
      " [9.89341589e-01 1.06584115e-02]\n",
      " [9.66459708e-01 3.35402921e-02]\n",
      " [9.85483093e-01 1.45169069e-02]\n",
      " [9.61873865e-01 3.81261354e-02]\n",
      " [9.85554052e-01 1.44459479e-02]\n",
      " [9.88654236e-01 1.13457643e-02]\n",
      " [9.94741383e-01 5.25861722e-03]\n",
      " [9.57480331e-01 4.25196693e-02]\n",
      " [9.51646901e-01 4.83530992e-02]\n",
      " [8.46078638e-01 1.53921362e-01]\n",
      " [1.00000000e+00 0.00000000e+00]\n",
      " [1.00000000e+00 0.00000000e+00]\n",
      " [1.00000000e+00 0.00000000e+00]\n",
      " [1.00000000e+00 0.00000000e+00]\n",
      " [1.00000000e+00 0.00000000e+00]\n",
      " [1.00000000e+00 0.00000000e+00]\n",
      " [9.66666667e-01 3.33333333e-02]\n",
      " [1.00000000e+00 0.00000000e+00]\n",
      " [1.00000000e+00 0.00000000e+00]\n",
      " [1.00000000e+00 0.00000000e+00]\n",
      " [9.96838211e-01 3.16178890e-03]\n",
      " [9.98908521e-01 1.09147861e-03]\n",
      " [9.29481830e-01 7.05181697e-02]\n",
      " [9.95566832e-01 4.43316825e-03]\n",
      " [9.00000000e-01 1.00000000e-01]\n",
      " [9.64255216e-01 3.57447838e-02]\n",
      " [9.93424940e-01 6.57506023e-03]\n",
      " [9.44825970e-01 5.51740298e-02]\n",
      " [9.65478733e-01 3.45212670e-02]\n",
      " [1.00000000e+00 0.00000000e+00]\n",
      " [9.97743073e-01 2.25692658e-03]\n",
      " [9.99594206e-01 4.05793891e-04]\n",
      " [9.96794850e-01 3.20515004e-03]\n",
      " [9.99432082e-01 5.67918405e-04]\n",
      " [9.65073236e-01 3.49267641e-02]\n",
      " [9.66666667e-01 3.33333333e-02]\n",
      " [8.81348710e-01 1.18651290e-01]\n",
      " [9.99366233e-01 6.33767483e-04]\n",
      " [9.62870054e-01 3.71299465e-02]\n",
      " [9.27802198e-01 7.21978022e-02]\n",
      " [9.96207810e-01 3.79218989e-03]\n",
      " [9.70944670e-01 2.90553296e-02]\n",
      " [9.63636364e-01 3.63636364e-02]\n",
      " [9.94942297e-01 5.05770285e-03]\n",
      " [9.98952880e-01 1.04712042e-03]\n",
      " [9.93088235e-01 6.91176471e-03]\n",
      " [9.65787998e-01 3.42120016e-02]\n",
      " [9.45278031e-01 5.47219693e-02]\n",
      " [9.44213813e-01 5.57861873e-02]\n",
      " [9.97524893e-01 2.47510667e-03]\n",
      " [8.83469814e-01 1.16530186e-01]\n",
      " [9.50347356e-01 4.96526437e-02]\n",
      " [9.96713594e-01 3.28640627e-03]\n",
      " [9.44225761e-01 5.57742393e-02]]\n"
     ]
    }
   ],
   "source": [
    "print(predictions[0:100])"
   ]
  },
  {
   "cell_type": "markdown",
   "metadata": {},
   "source": [
    "Sort and output"
   ]
  },
  {
   "cell_type": "code",
   "execution_count": 33,
   "metadata": {},
   "outputs": [
    {
     "name": "stdout",
     "output_type": "stream",
     "text": [
      "Your submission was successfully saved!\n"
     ]
    }
   ],
   "source": [
    "result = pd.DataFrame({'srch_id': test_data.srch_id, 'prop_id': test_data.prop_id, 'value': predictions[:,1]})\n",
    "output = result.sort_values(by=['srch_id', 'value'], ascending = (True, False))[['srch_id', 'prop_id']]\n",
    "# print(output)\n",
    "\n",
    "output.to_csv('output/my_submission.csv', index=False)\n",
    "print('Your submission was successfully saved!')"
   ]
  },
  {
   "cell_type": "code",
   "execution_count": null,
   "metadata": {},
   "outputs": [],
   "source": []
  }
 ],
 "metadata": {
  "kernelspec": {
   "display_name": "Python 3",
   "language": "python",
   "name": "python3"
  },
  "language_info": {
   "codemirror_mode": {
    "name": "ipython",
    "version": 3
   },
   "file_extension": ".py",
   "mimetype": "text/x-python",
   "name": "python",
   "nbconvert_exporter": "python",
   "pygments_lexer": "ipython3",
   "version": "3.8.2"
  }
 },
 "nbformat": 4,
 "nbformat_minor": 4
}
