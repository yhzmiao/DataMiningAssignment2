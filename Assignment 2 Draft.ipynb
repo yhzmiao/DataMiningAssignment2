{
 "cells": [
  {
   "cell_type": "code",
   "execution_count": 1,
   "metadata": {
    "_cell_guid": "b1076dfc-b9ad-4769-8c92-a6c4dae69d19",
    "_uuid": "8f2839f25d086af736a60e9eeb907d3b93b6e0e5"
   },
   "outputs": [],
   "source": [
    "import numpy as np # linear algebra\n",
    "import pandas as pd # data processing, CSV file I/O (e.g. pd.read_csv)\n",
    "import matplotlib.pyplot as plt\n",
    "import seaborn as sns\n",
    "import numpy as np\n",
    "%matplotlib inline"
   ]
  },
  {
   "cell_type": "markdown",
   "metadata": {},
   "source": [
    "Load training and testing data"
   ]
  },
  {
   "cell_type": "code",
   "execution_count": 2,
   "metadata": {
    "_cell_guid": "79c7e3d0-c299-4dcb-8224-4455121ee9b0",
    "_uuid": "d629ff2d2480ee46fbb7e2d37f6b5fab8052498a",
    "scrolled": true
   },
   "outputs": [
    {
     "ename": "FileNotFoundError",
     "evalue": "[Errno 2] File input/training_set_VU_DM.csv does not exist: 'input/training_set_VU_DM.csv'",
     "output_type": "error",
     "traceback": [
      "\u001b[1;31m---------------------------------------------------------------------------\u001b[0m",
      "\u001b[1;31mFileNotFoundError\u001b[0m                         Traceback (most recent call last)",
      "\u001b[1;32m<ipython-input-2-af7e2446cc50>\u001b[0m in \u001b[0;36m<module>\u001b[1;34m\u001b[0m\n\u001b[0;32m      1\u001b[0m \u001b[1;31m# Load Training Data\u001b[0m\u001b[1;33m\u001b[0m\u001b[1;33m\u001b[0m\u001b[1;33m\u001b[0m\u001b[0m\n\u001b[1;32m----> 2\u001b[1;33m \u001b[0mtrain_data\u001b[0m \u001b[1;33m=\u001b[0m \u001b[0mpd\u001b[0m\u001b[1;33m.\u001b[0m\u001b[0mread_csv\u001b[0m\u001b[1;33m(\u001b[0m\u001b[1;34m\"input/training_set_VU_DM.csv\"\u001b[0m\u001b[1;33m)\u001b[0m\u001b[1;33m\u001b[0m\u001b[1;33m\u001b[0m\u001b[0m\n\u001b[0m\u001b[0;32m      3\u001b[0m \u001b[0mtrain_data\u001b[0m\u001b[1;33m.\u001b[0m\u001b[0mhead\u001b[0m\u001b[1;33m(\u001b[0m\u001b[1;33m)\u001b[0m\u001b[1;33m\u001b[0m\u001b[1;33m\u001b[0m\u001b[0m\n\u001b[0;32m      4\u001b[0m \u001b[1;33m\u001b[0m\u001b[0m\n\u001b[0;32m      5\u001b[0m \u001b[1;31m# Load Test Data\u001b[0m\u001b[1;33m\u001b[0m\u001b[1;33m\u001b[0m\u001b[1;33m\u001b[0m\u001b[0m\n",
      "\u001b[1;32mc:\\users\\31618\\appdata\\local\\programs\\python\\python38\\lib\\site-packages\\pandas\\io\\parsers.py\u001b[0m in \u001b[0;36mparser_f\u001b[1;34m(filepath_or_buffer, sep, delimiter, header, names, index_col, usecols, squeeze, prefix, mangle_dupe_cols, dtype, engine, converters, true_values, false_values, skipinitialspace, skiprows, skipfooter, nrows, na_values, keep_default_na, na_filter, verbose, skip_blank_lines, parse_dates, infer_datetime_format, keep_date_col, date_parser, dayfirst, cache_dates, iterator, chunksize, compression, thousands, decimal, lineterminator, quotechar, quoting, doublequote, escapechar, comment, encoding, dialect, error_bad_lines, warn_bad_lines, delim_whitespace, low_memory, memory_map, float_precision)\u001b[0m\n\u001b[0;32m    674\u001b[0m         )\n\u001b[0;32m    675\u001b[0m \u001b[1;33m\u001b[0m\u001b[0m\n\u001b[1;32m--> 676\u001b[1;33m         \u001b[1;32mreturn\u001b[0m \u001b[0m_read\u001b[0m\u001b[1;33m(\u001b[0m\u001b[0mfilepath_or_buffer\u001b[0m\u001b[1;33m,\u001b[0m \u001b[0mkwds\u001b[0m\u001b[1;33m)\u001b[0m\u001b[1;33m\u001b[0m\u001b[1;33m\u001b[0m\u001b[0m\n\u001b[0m\u001b[0;32m    677\u001b[0m \u001b[1;33m\u001b[0m\u001b[0m\n\u001b[0;32m    678\u001b[0m     \u001b[0mparser_f\u001b[0m\u001b[1;33m.\u001b[0m\u001b[0m__name__\u001b[0m \u001b[1;33m=\u001b[0m \u001b[0mname\u001b[0m\u001b[1;33m\u001b[0m\u001b[1;33m\u001b[0m\u001b[0m\n",
      "\u001b[1;32mc:\\users\\31618\\appdata\\local\\programs\\python\\python38\\lib\\site-packages\\pandas\\io\\parsers.py\u001b[0m in \u001b[0;36m_read\u001b[1;34m(filepath_or_buffer, kwds)\u001b[0m\n\u001b[0;32m    446\u001b[0m \u001b[1;33m\u001b[0m\u001b[0m\n\u001b[0;32m    447\u001b[0m     \u001b[1;31m# Create the parser.\u001b[0m\u001b[1;33m\u001b[0m\u001b[1;33m\u001b[0m\u001b[1;33m\u001b[0m\u001b[0m\n\u001b[1;32m--> 448\u001b[1;33m     \u001b[0mparser\u001b[0m \u001b[1;33m=\u001b[0m \u001b[0mTextFileReader\u001b[0m\u001b[1;33m(\u001b[0m\u001b[0mfp_or_buf\u001b[0m\u001b[1;33m,\u001b[0m \u001b[1;33m**\u001b[0m\u001b[0mkwds\u001b[0m\u001b[1;33m)\u001b[0m\u001b[1;33m\u001b[0m\u001b[1;33m\u001b[0m\u001b[0m\n\u001b[0m\u001b[0;32m    449\u001b[0m \u001b[1;33m\u001b[0m\u001b[0m\n\u001b[0;32m    450\u001b[0m     \u001b[1;32mif\u001b[0m \u001b[0mchunksize\u001b[0m \u001b[1;32mor\u001b[0m \u001b[0miterator\u001b[0m\u001b[1;33m:\u001b[0m\u001b[1;33m\u001b[0m\u001b[1;33m\u001b[0m\u001b[0m\n",
      "\u001b[1;32mc:\\users\\31618\\appdata\\local\\programs\\python\\python38\\lib\\site-packages\\pandas\\io\\parsers.py\u001b[0m in \u001b[0;36m__init__\u001b[1;34m(self, f, engine, **kwds)\u001b[0m\n\u001b[0;32m    878\u001b[0m             \u001b[0mself\u001b[0m\u001b[1;33m.\u001b[0m\u001b[0moptions\u001b[0m\u001b[1;33m[\u001b[0m\u001b[1;34m\"has_index_names\"\u001b[0m\u001b[1;33m]\u001b[0m \u001b[1;33m=\u001b[0m \u001b[0mkwds\u001b[0m\u001b[1;33m[\u001b[0m\u001b[1;34m\"has_index_names\"\u001b[0m\u001b[1;33m]\u001b[0m\u001b[1;33m\u001b[0m\u001b[1;33m\u001b[0m\u001b[0m\n\u001b[0;32m    879\u001b[0m \u001b[1;33m\u001b[0m\u001b[0m\n\u001b[1;32m--> 880\u001b[1;33m         \u001b[0mself\u001b[0m\u001b[1;33m.\u001b[0m\u001b[0m_make_engine\u001b[0m\u001b[1;33m(\u001b[0m\u001b[0mself\u001b[0m\u001b[1;33m.\u001b[0m\u001b[0mengine\u001b[0m\u001b[1;33m)\u001b[0m\u001b[1;33m\u001b[0m\u001b[1;33m\u001b[0m\u001b[0m\n\u001b[0m\u001b[0;32m    881\u001b[0m \u001b[1;33m\u001b[0m\u001b[0m\n\u001b[0;32m    882\u001b[0m     \u001b[1;32mdef\u001b[0m \u001b[0mclose\u001b[0m\u001b[1;33m(\u001b[0m\u001b[0mself\u001b[0m\u001b[1;33m)\u001b[0m\u001b[1;33m:\u001b[0m\u001b[1;33m\u001b[0m\u001b[1;33m\u001b[0m\u001b[0m\n",
      "\u001b[1;32mc:\\users\\31618\\appdata\\local\\programs\\python\\python38\\lib\\site-packages\\pandas\\io\\parsers.py\u001b[0m in \u001b[0;36m_make_engine\u001b[1;34m(self, engine)\u001b[0m\n\u001b[0;32m   1112\u001b[0m     \u001b[1;32mdef\u001b[0m \u001b[0m_make_engine\u001b[0m\u001b[1;33m(\u001b[0m\u001b[0mself\u001b[0m\u001b[1;33m,\u001b[0m \u001b[0mengine\u001b[0m\u001b[1;33m=\u001b[0m\u001b[1;34m\"c\"\u001b[0m\u001b[1;33m)\u001b[0m\u001b[1;33m:\u001b[0m\u001b[1;33m\u001b[0m\u001b[1;33m\u001b[0m\u001b[0m\n\u001b[0;32m   1113\u001b[0m         \u001b[1;32mif\u001b[0m \u001b[0mengine\u001b[0m \u001b[1;33m==\u001b[0m \u001b[1;34m\"c\"\u001b[0m\u001b[1;33m:\u001b[0m\u001b[1;33m\u001b[0m\u001b[1;33m\u001b[0m\u001b[0m\n\u001b[1;32m-> 1114\u001b[1;33m             \u001b[0mself\u001b[0m\u001b[1;33m.\u001b[0m\u001b[0m_engine\u001b[0m \u001b[1;33m=\u001b[0m \u001b[0mCParserWrapper\u001b[0m\u001b[1;33m(\u001b[0m\u001b[0mself\u001b[0m\u001b[1;33m.\u001b[0m\u001b[0mf\u001b[0m\u001b[1;33m,\u001b[0m \u001b[1;33m**\u001b[0m\u001b[0mself\u001b[0m\u001b[1;33m.\u001b[0m\u001b[0moptions\u001b[0m\u001b[1;33m)\u001b[0m\u001b[1;33m\u001b[0m\u001b[1;33m\u001b[0m\u001b[0m\n\u001b[0m\u001b[0;32m   1115\u001b[0m         \u001b[1;32melse\u001b[0m\u001b[1;33m:\u001b[0m\u001b[1;33m\u001b[0m\u001b[1;33m\u001b[0m\u001b[0m\n\u001b[0;32m   1116\u001b[0m             \u001b[1;32mif\u001b[0m \u001b[0mengine\u001b[0m \u001b[1;33m==\u001b[0m \u001b[1;34m\"python\"\u001b[0m\u001b[1;33m:\u001b[0m\u001b[1;33m\u001b[0m\u001b[1;33m\u001b[0m\u001b[0m\n",
      "\u001b[1;32mc:\\users\\31618\\appdata\\local\\programs\\python\\python38\\lib\\site-packages\\pandas\\io\\parsers.py\u001b[0m in \u001b[0;36m__init__\u001b[1;34m(self, src, **kwds)\u001b[0m\n\u001b[0;32m   1889\u001b[0m         \u001b[0mkwds\u001b[0m\u001b[1;33m[\u001b[0m\u001b[1;34m\"usecols\"\u001b[0m\u001b[1;33m]\u001b[0m \u001b[1;33m=\u001b[0m \u001b[0mself\u001b[0m\u001b[1;33m.\u001b[0m\u001b[0musecols\u001b[0m\u001b[1;33m\u001b[0m\u001b[1;33m\u001b[0m\u001b[0m\n\u001b[0;32m   1890\u001b[0m \u001b[1;33m\u001b[0m\u001b[0m\n\u001b[1;32m-> 1891\u001b[1;33m         \u001b[0mself\u001b[0m\u001b[1;33m.\u001b[0m\u001b[0m_reader\u001b[0m \u001b[1;33m=\u001b[0m \u001b[0mparsers\u001b[0m\u001b[1;33m.\u001b[0m\u001b[0mTextReader\u001b[0m\u001b[1;33m(\u001b[0m\u001b[0msrc\u001b[0m\u001b[1;33m,\u001b[0m \u001b[1;33m**\u001b[0m\u001b[0mkwds\u001b[0m\u001b[1;33m)\u001b[0m\u001b[1;33m\u001b[0m\u001b[1;33m\u001b[0m\u001b[0m\n\u001b[0m\u001b[0;32m   1892\u001b[0m         \u001b[0mself\u001b[0m\u001b[1;33m.\u001b[0m\u001b[0munnamed_cols\u001b[0m \u001b[1;33m=\u001b[0m \u001b[0mself\u001b[0m\u001b[1;33m.\u001b[0m\u001b[0m_reader\u001b[0m\u001b[1;33m.\u001b[0m\u001b[0munnamed_cols\u001b[0m\u001b[1;33m\u001b[0m\u001b[1;33m\u001b[0m\u001b[0m\n\u001b[0;32m   1893\u001b[0m \u001b[1;33m\u001b[0m\u001b[0m\n",
      "\u001b[1;32mpandas\\_libs\\parsers.pyx\u001b[0m in \u001b[0;36mpandas._libs.parsers.TextReader.__cinit__\u001b[1;34m()\u001b[0m\n",
      "\u001b[1;32mpandas\\_libs\\parsers.pyx\u001b[0m in \u001b[0;36mpandas._libs.parsers.TextReader._setup_parser_source\u001b[1;34m()\u001b[0m\n",
      "\u001b[1;31mFileNotFoundError\u001b[0m: [Errno 2] File input/training_set_VU_DM.csv does not exist: 'input/training_set_VU_DM.csv'"
     ]
    }
   ],
   "source": [
    "# Load Training Data\n",
    "train_data = pd.read_csv(\"input/training_set_VU_DM.csv\")\n",
    "train_data.head()\n",
    "\n",
    "# Load Test Data\n",
    "test_data = pd.read_csv(\"input/test_set_VU_DM.csv\")\n",
    "test_data.head()"
   ]
  },
  {
   "cell_type": "markdown",
   "metadata": {},
   "source": [
    "Display attributes"
   ]
  },
  {
   "cell_type": "code",
   "execution_count": 3,
   "metadata": {},
   "outputs": [
    {
     "name": "stdout",
     "output_type": "stream",
     "text": [
      "<class 'pandas.core.frame.DataFrame'>\n",
      "RangeIndex: 4958347 entries, 0 to 4958346\n",
      "Data columns (total 54 columns):\n",
      " #   Column                       Non-Null Count    Dtype  \n",
      "---  ------                       --------------    -----  \n",
      " 0   srch_id                      4958347 non-null  int64  \n",
      " 1   date_time                    4958347 non-null  object \n",
      " 2   site_id                      4958347 non-null  int64  \n",
      " 3   visitor_location_country_id  4958347 non-null  int64  \n",
      " 4   visitor_hist_starrating      251866 non-null   float64\n",
      " 5   visitor_hist_adr_usd         252988 non-null   float64\n",
      " 6   prop_country_id              4958347 non-null  int64  \n",
      " 7   prop_id                      4958347 non-null  int64  \n",
      " 8   prop_starrating              4958347 non-null  int64  \n",
      " 9   prop_review_score            4950983 non-null  float64\n",
      " 10  prop_brand_bool              4958347 non-null  int64  \n",
      " 11  prop_location_score1         4958347 non-null  float64\n",
      " 12  prop_location_score2         3867999 non-null  float64\n",
      " 13  prop_log_historical_price    4958347 non-null  float64\n",
      " 14  position                     4958347 non-null  int64  \n",
      " 15  price_usd                    4958347 non-null  float64\n",
      " 16  promotion_flag               4958347 non-null  int64  \n",
      " 17  srch_destination_id          4958347 non-null  int64  \n",
      " 18  srch_length_of_stay          4958347 non-null  int64  \n",
      " 19  srch_booking_window          4958347 non-null  int64  \n",
      " 20  srch_adults_count            4958347 non-null  int64  \n",
      " 21  srch_children_count          4958347 non-null  int64  \n",
      " 22  srch_room_count              4958347 non-null  int64  \n",
      " 23  srch_saturday_night_bool     4958347 non-null  int64  \n",
      " 24  srch_query_affinity_score    317406 non-null   float64\n",
      " 25  orig_destination_distance    3350565 non-null  float64\n",
      " 26  random_bool                  4958347 non-null  int64  \n",
      " 27  comp1_rate                   119930 non-null   float64\n",
      " 28  comp1_inv                    129559 non-null   float64\n",
      " 29  comp1_rate_percent_diff      94439 non-null    float64\n",
      " 30  comp2_rate                   2024672 non-null  float64\n",
      " 31  comp2_inv                    2130269 non-null  float64\n",
      " 32  comp2_rate_percent_diff      556238 non-null   float64\n",
      " 33  comp3_rate                   1534288 non-null  float64\n",
      " 34  comp3_inv                    1650990 non-null  float64\n",
      " 35  comp3_rate_percent_diff      472797 non-null   float64\n",
      " 36  comp4_rate                   307378 non-null   float64\n",
      " 37  comp4_inv                    343663 non-null   float64\n",
      " 38  comp4_rate_percent_diff      131086 non-null   float64\n",
      " 39  comp5_rate                   2222373 non-null  float64\n",
      " 40  comp5_inv                    2360020 non-null  float64\n",
      " 41  comp5_rate_percent_diff      841099 non-null   float64\n",
      " 42  comp6_rate                   240157 non-null   float64\n",
      " 43  comp6_inv                    260976 non-null   float64\n",
      " 44  comp6_rate_percent_diff      96174 non-null    float64\n",
      " 45  comp7_rate                   315348 non-null   float64\n",
      " 46  comp7_inv                    356422 non-null   float64\n",
      " 47  comp7_rate_percent_diff      138515 non-null   float64\n",
      " 48  comp8_rate                   1916654 non-null  float64\n",
      " 49  comp8_inv                    1987503 non-null  float64\n",
      " 50  comp8_rate_percent_diff      614730 non-null   float64\n",
      " 51  click_bool                   4958347 non-null  int64  \n",
      " 52  gross_bookings_usd           138390 non-null   float64\n",
      " 53  booking_bool                 4958347 non-null  int64  \n",
      "dtypes: float64(34), int64(19), object(1)\n",
      "memory usage: 2.0+ GB\n",
      "<class 'pandas.core.frame.DataFrame'>\n",
      "RangeIndex: 4959183 entries, 0 to 4959182\n",
      "Data columns (total 50 columns):\n",
      " #   Column                       Non-Null Count    Dtype  \n",
      "---  ------                       --------------    -----  \n",
      " 0   srch_id                      4959183 non-null  int64  \n",
      " 1   date_time                    4959183 non-null  object \n",
      " 2   site_id                      4959183 non-null  int64  \n",
      " 3   visitor_location_country_id  4959183 non-null  int64  \n",
      " 4   visitor_hist_starrating      253431 non-null   float64\n",
      " 5   visitor_hist_adr_usd         254624 non-null   float64\n",
      " 6   prop_country_id              4959183 non-null  int64  \n",
      " 7   prop_id                      4959183 non-null  int64  \n",
      " 8   prop_starrating              4959183 non-null  int64  \n",
      " 9   prop_review_score            4951917 non-null  float64\n",
      " 10  prop_brand_bool              4959183 non-null  int64  \n",
      " 11  prop_location_score1         4959183 non-null  float64\n",
      " 12  prop_location_score2         3871151 non-null  float64\n",
      " 13  prop_log_historical_price    4959183 non-null  float64\n",
      " 14  price_usd                    4959183 non-null  float64\n",
      " 15  promotion_flag               4959183 non-null  int64  \n",
      " 16  srch_destination_id          4959183 non-null  int64  \n",
      " 17  srch_length_of_stay          4959183 non-null  int64  \n",
      " 18  srch_booking_window          4959183 non-null  int64  \n",
      " 19  srch_adults_count            4959183 non-null  int64  \n",
      " 20  srch_children_count          4959183 non-null  int64  \n",
      " 21  srch_room_count              4959183 non-null  int64  \n",
      " 22  srch_saturday_night_bool     4959183 non-null  int64  \n",
      " 23  srch_query_affinity_score    318158 non-null   float64\n",
      " 24  orig_destination_distance    3350504 non-null  float64\n",
      " 25  random_bool                  4959183 non-null  int64  \n",
      " 26  comp1_rate                   115876 non-null   float64\n",
      " 27  comp1_inv                    124874 non-null   float64\n",
      " 28  comp1_rate_percent_diff      90468 non-null    float64\n",
      " 29  comp2_rate                   2015961 non-null  float64\n",
      " 30  comp2_inv                    2121269 non-null  float64\n",
      " 31  comp2_rate_percent_diff      553609 non-null   float64\n",
      " 32  comp3_rate                   1524985 non-null  float64\n",
      " 33  comp3_inv                    1641231 non-null  float64\n",
      " 34  comp3_rate_percent_diff      471210 non-null   float64\n",
      " 35  comp4_rate                   312721 non-null   float64\n",
      " 36  comp4_inv                    348808 non-null   float64\n",
      " 37  comp4_rate_percent_diff      133127 non-null   float64\n",
      " 38  comp5_rate                   2221921 non-null  float64\n",
      " 39  comp5_inv                    2360813 non-null  float64\n",
      " 40  comp5_rate_percent_diff      839907 non-null   float64\n",
      " 41  comp6_rate                   242330 non-null   float64\n",
      " 42  comp6_inv                    263169 non-null   float64\n",
      " 43  comp6_rate_percent_diff      97138 non-null    float64\n",
      " 44  comp7_rate                   315729 non-null   float64\n",
      " 45  comp7_inv                    356753 non-null   float64\n",
      " 46  comp7_rate_percent_diff      139323 non-null   float64\n",
      " 47  comp8_rate                   1902389 non-null  float64\n",
      " 48  comp8_inv                    1972885 non-null  float64\n",
      " 49  comp8_rate_percent_diff      610977 non-null   float64\n",
      "dtypes: float64(33), int64(16), object(1)\n",
      "memory usage: 1.8+ GB\n"
     ]
    }
   ],
   "source": [
    "train_data.info(null_counts=True)\n",
    "test_data.info(null_counts=True)"
   ]
  },
  {
   "cell_type": "markdown",
   "metadata": {},
   "source": [
    "Display the date with "
   ]
  },
  {
   "cell_type": "markdown",
   "metadata": {},
   "source": [
    "Use probability classifier"
   ]
  },
  {
   "cell_type": "code",
   "execution_count": 17,
   "metadata": {},
   "outputs": [
    {
     "name": "stdout",
     "output_type": "stream",
     "text": [
      "Finished\n"
     ]
    }
   ],
   "source": [
    "from sklearn.ensemble import RandomForestClassifier\n",
    "\n",
    "features = ['site_id', 'visitor_location_country_id', 'prop_country_id', 'prop_id', 'prop_starrating', 'prop_brand_bool', 'prop_location_score1', 'prop_log_historical_price', 'price_usd', 'promotion_flag', 'srch_destination_id', 'srch_length_of_stay', 'srch_booking_window', 'srch_adults_count', 'srch_children_count', 'srch_room_count', 'srch_saturday_night_bool', 'random_bool']\n",
    "y = train_data['booking_bool']\n",
    "\n",
    "X = train_data[features]\n",
    "X_test = test_data[features]\n",
    "\n",
    "model = RandomForestClassifier(n_estimators=20, max_depth=20)\n",
    "\n",
    "model.fit(X, y)\n",
    "predictions = model.predict_proba(X_test)\n",
    "\n",
    "print(\"Finished\")"
   ]
  },
  {
   "cell_type": "code",
   "execution_count": 18,
   "metadata": {
    "scrolled": true
   },
   "outputs": [
    {
     "name": "stdout",
     "output_type": "stream",
     "text": [
      "[[9.66720210e-01 3.32797904e-02]\n",
      " [9.67518094e-01 3.24819065e-02]\n",
      " [9.73571855e-01 2.64281445e-02]\n",
      " [9.77547677e-01 2.24523231e-02]\n",
      " [9.55504987e-01 4.44950125e-02]\n",
      " [9.54574513e-01 4.54254872e-02]\n",
      " [9.57773596e-01 4.22264038e-02]\n",
      " [9.67908737e-01 3.20912633e-02]\n",
      " [9.63088049e-01 3.69119511e-02]\n",
      " [9.40192006e-01 5.98079944e-02]\n",
      " [9.89239142e-01 1.07608577e-02]\n",
      " [9.89945265e-01 1.00547353e-02]\n",
      " [9.38700565e-01 6.12994349e-02]\n",
      " [9.62784684e-01 3.72153162e-02]\n",
      " [9.51979573e-01 4.80204272e-02]\n",
      " [9.87541615e-01 1.24583847e-02]\n",
      " [9.60897549e-01 3.91024507e-02]\n",
      " [9.62894698e-01 3.71053025e-02]\n",
      " [9.63467974e-01 3.65320259e-02]\n",
      " [9.74053946e-01 2.59460543e-02]\n",
      " [9.07212635e-01 9.27873645e-02]\n",
      " [9.76978224e-01 2.30217763e-02]\n",
      " [9.53132226e-01 4.68677736e-02]\n",
      " [9.31106026e-01 6.88939738e-02]\n",
      " [9.65667185e-01 3.43328146e-02]\n",
      " [9.36084780e-01 6.39152200e-02]\n",
      " [9.74556625e-01 2.54433746e-02]\n",
      " [9.77946149e-01 2.20538509e-02]\n",
      " [9.83715488e-01 1.62845124e-02]\n",
      " [9.48444775e-01 5.15552247e-02]\n",
      " [9.57341908e-01 4.26580918e-02]\n",
      " [9.71184904e-01 2.88150962e-02]\n",
      " [9.66673078e-01 3.33269223e-02]\n",
      " [9.52756507e-01 4.72434926e-02]\n",
      " [9.66133345e-01 3.38666549e-02]\n",
      " [9.54285802e-01 4.57141978e-02]\n",
      " [9.69614130e-01 3.03858704e-02]\n",
      " [9.87419175e-01 1.25808249e-02]\n",
      " [9.18995976e-01 8.10040239e-02]\n",
      " [9.83556262e-01 1.64437384e-02]\n",
      " [9.68943602e-01 3.10563980e-02]\n",
      " [9.70778543e-01 2.92214566e-02]\n",
      " [9.68158640e-01 3.18413602e-02]\n",
      " [9.73178471e-01 2.68215294e-02]\n",
      " [9.54051208e-01 4.59487917e-02]\n",
      " [9.65999305e-01 3.40006951e-02]\n",
      " [9.73008655e-01 2.69913448e-02]\n",
      " [9.52494773e-01 4.75052271e-02]\n",
      " [9.72024644e-01 2.79753555e-02]\n",
      " [9.64917067e-01 3.50829326e-02]\n",
      " [9.75341717e-01 2.46582828e-02]\n",
      " [9.86672188e-01 1.33278123e-02]\n",
      " [9.39947498e-01 6.00525018e-02]\n",
      " [9.52148274e-01 4.78517260e-02]\n",
      " [9.62697362e-01 3.73026382e-02]\n",
      " [9.71164913e-01 2.88350871e-02]\n",
      " [9.99950243e-01 4.97568729e-05]\n",
      " [9.99631845e-01 3.68154593e-04]\n",
      " [9.99898691e-01 1.01309170e-04]\n",
      " [9.99898691e-01 1.01309170e-04]\n",
      " [9.99541381e-01 4.58618644e-04]\n",
      " [9.99423566e-01 5.76433594e-04]\n",
      " [9.99506660e-01 4.93339818e-04]\n",
      " [9.99266652e-01 7.33348416e-04]\n",
      " [9.99353448e-01 6.46551724e-04]\n",
      " [9.98852805e-01 1.14719546e-03]\n",
      " [9.79019761e-01 2.09802385e-02]\n",
      " [9.61700847e-01 3.82991529e-02]\n",
      " [9.77003666e-01 2.29963338e-02]\n",
      " [9.75609958e-01 2.43900419e-02]\n",
      " [9.70570665e-01 2.94293352e-02]\n",
      " [9.76515026e-01 2.34849744e-02]\n",
      " [9.83495879e-01 1.65041211e-02]\n",
      " [9.47251137e-01 5.27488632e-02]\n",
      " [9.74232305e-01 2.57676946e-02]\n",
      " [9.77424647e-01 2.25753532e-02]\n",
      " [9.73897979e-01 2.61020206e-02]\n",
      " [9.72577425e-01 2.74225748e-02]\n",
      " [9.31083018e-01 6.89169817e-02]\n",
      " [9.86304838e-01 1.36951620e-02]\n",
      " [9.89534910e-01 1.04650902e-02]\n",
      " [9.81591635e-01 1.84083654e-02]\n",
      " [9.79278626e-01 2.07213739e-02]\n",
      " [9.78681862e-01 2.13181378e-02]\n",
      " [9.50295212e-01 4.97047881e-02]\n",
      " [9.56566879e-01 4.34331213e-02]\n",
      " [9.83150371e-01 1.68496290e-02]\n",
      " [9.55282304e-01 4.47176964e-02]\n",
      " [9.82366880e-01 1.76331204e-02]\n",
      " [8.63616113e-01 1.36383887e-01]\n",
      " [9.22587841e-01 7.74121593e-02]\n",
      " [9.27919167e-01 7.20808326e-02]\n",
      " [9.89796695e-01 1.02033050e-02]\n",
      " [9.63260510e-01 3.67394901e-02]\n",
      " [9.69880607e-01 3.01193926e-02]\n",
      " [9.73982685e-01 2.60173147e-02]\n",
      " [9.63882030e-01 3.61179701e-02]\n",
      " [9.65094331e-01 3.49056694e-02]\n",
      " [9.71171705e-01 2.88282948e-02]\n",
      " [9.70042658e-01 2.99573421e-02]]\n"
     ]
    }
   ],
   "source": [
    "print(predictions[0:100])"
   ]
  },
  {
   "cell_type": "markdown",
   "metadata": {},
   "source": [
    "Sort and output"
   ]
  },
  {
   "cell_type": "code",
   "execution_count": 40,
   "metadata": {},
   "outputs": [
    {
     "name": "stdout",
     "output_type": "stream",
     "text": [
      "Your submission was successfully saved!\n"
     ]
    }
   ],
   "source": [
    "result = pd.DataFrame({'srch_id': test_data.srch_id, 'prop_id': test_data.prop_id, 'value': predictions[:,1]})\n",
    "output = result.sort_values(by=['srch_id', 'value'], ascending = (True, False))[['srch_id', 'prop_id']]\n",
    "# print(output)\n",
    "\n",
    "output.to_csv('output/my_submission.csv', index=False)\n",
    "print('Your submission was successfully saved!')"
   ]
  },
  {
   "cell_type": "code",
   "execution_count": null,
   "metadata": {},
   "outputs": [],
   "source": []
  }
 ],
 "metadata": {
  "kernelspec": {
   "display_name": "Python 3",
   "language": "python",
   "name": "python3"
  },
  "language_info": {
   "codemirror_mode": {
    "name": "ipython",
    "version": 3
   },
   "file_extension": ".py",
   "mimetype": "text/x-python",
   "name": "python",
   "nbconvert_exporter": "python",
   "pygments_lexer": "ipython3",
   "version": "3.8.2"
  }
 },
 "nbformat": 4,
 "nbformat_minor": 4
}
